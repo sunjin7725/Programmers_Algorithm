{
 "cells": [
  {
   "cell_type": "code",
   "execution_count": null,
   "metadata": {},
   "outputs": [],
   "source": [
    "from collections import Counter\n",
    "\n",
    "def prime(n):\n",
    "    result = [False, False] + [True] * (n-1)\n",
    "    for idx, i in enumerate(result):\n",
    "        if i:\n",
    "            k = idx * 2\n",
    "            while k <= n:\n",
    "                result[k] = False\n",
    "                k += idx\n",
    "                \n",
    "    return Counter(result)[True]\n",
    "\n",
    "def solution(n):\n",
    "    answer = prime(n)\n",
    "    return answer"
   ]
  }
 ],
 "metadata": {
  "kernelspec": {
   "display_name": "Python 3",
   "language": "python",
   "name": "python3"
  },
  "language_info": {
   "codemirror_mode": {
    "name": "ipython",
    "version": 3
   },
   "file_extension": ".py",
   "mimetype": "text/x-python",
   "name": "python",
   "nbconvert_exporter": "python",
   "pygments_lexer": "ipython3",
   "version": "3.7.4"
  }
 },
 "nbformat": 4,
 "nbformat_minor": 2
}
