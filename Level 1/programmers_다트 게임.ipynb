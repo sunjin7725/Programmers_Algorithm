{
 "cells": [
  {
   "cell_type": "code",
   "execution_count": null,
   "metadata": {},
   "outputs": [],
   "source": [
    "def solution(dartResult):\n",
    "    score = []\n",
    "    num = ''\n",
    "    for i in dartResult:\n",
    "        if i.isnumeric():\n",
    "            num += i\n",
    "        elif i is 'S':\n",
    "            score.append(int(num)**1)\n",
    "            num = ''\n",
    "        elif i is 'D':\n",
    "            score.append(int(num)**2)\n",
    "            num = ''\n",
    "        elif i is 'T':\n",
    "            score.append(int(num)**3)\n",
    "            num = ''\n",
    "        elif i is '*':\n",
    "            if len(score) >1:\n",
    "                score[-2] *= 2\n",
    "            score[-1] *= 2\n",
    "        elif i is '#':\n",
    "            score[-1] *= (-1)\n",
    "            \n",
    "    return sum(score)"
   ]
  }
 ],
 "metadata": {
  "kernelspec": {
   "display_name": "Python 3",
   "language": "python",
   "name": "python3"
  },
  "language_info": {
   "codemirror_mode": {
    "name": "ipython",
    "version": 3
   },
   "file_extension": ".py",
   "mimetype": "text/x-python",
   "name": "python",
   "nbconvert_exporter": "python",
   "pygments_lexer": "ipython3",
   "version": "3.7.4"
  }
 },
 "nbformat": 4,
 "nbformat_minor": 2
}
