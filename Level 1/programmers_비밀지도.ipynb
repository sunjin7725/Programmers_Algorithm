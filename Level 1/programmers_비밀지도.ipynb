{
 "cells": [
  {
   "cell_type": "code",
   "execution_count": null,
   "metadata": {},
   "outputs": [],
   "source": [
    "def solution(n, arr1, arr2):\n",
    "    num_array = []\n",
    "    for i in range(n):\n",
    "        num = int(bin(arr1[i])[2:])+int(bin(arr2[i])[2:])\n",
    "        num_string = str(num)\n",
    "\n",
    "        if not len(num_string) == n:\n",
    "            zero = '0'\n",
    "            minus = n-len(num_string)\n",
    "            num_string = zero*minus+num_string\n",
    "\n",
    "        num_array.append(num_string)\n",
    "        \n",
    "    result = []\n",
    "    for i in num_array:\n",
    "        text = i\n",
    "        text = text.replace(\"1\",\"#\")\n",
    "        text = text.replace(\"2\",\"#\")\n",
    "        text = text.replace(\"0\",\" \")\n",
    "        result.append(text)\n",
    "        \n",
    "    return result"
   ]
  }
 ],
 "metadata": {
  "kernelspec": {
   "display_name": "Python 3",
   "language": "python",
   "name": "python3"
  },
  "language_info": {
   "codemirror_mode": {
    "name": "ipython",
    "version": 3
   },
   "file_extension": ".py",
   "mimetype": "text/x-python",
   "name": "python",
   "nbconvert_exporter": "python",
   "pygments_lexer": "ipython3",
   "version": "3.7.4"
  }
 },
 "nbformat": 4,
 "nbformat_minor": 2
}
