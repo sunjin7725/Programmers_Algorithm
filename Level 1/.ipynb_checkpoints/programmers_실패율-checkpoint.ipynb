{
 "cells": [
  {
   "cell_type": "code",
   "execution_count": null,
   "metadata": {},
   "outputs": [],
   "source": [
    "import numpy as np\n",
    "\n",
    "def solution(N, stages):\n",
    "    stage_count = np.zeros(N+1,dtype=int)\n",
    "\n",
    "    for u_stage in stages:\n",
    "        stage_count[u_stage-1] +=1\n",
    "\n",
    "    failure = {}\n",
    "    for i, count in enumerate(stage_count):\n",
    "        if i == N:\n",
    "            break\n",
    "        failure[i+1] = (count/np.sum(stage_count[i:]))\n",
    "\n",
    "    failure = sorted(failure.items(), key=lambda x:x[1], reverse=True)\n",
    "    result = [i for i,k in failure]\n",
    "    return result"
   ]
  }
 ],
 "metadata": {
  "kernelspec": {
   "display_name": "Python 3",
   "language": "python",
   "name": "python3"
  },
  "language_info": {
   "codemirror_mode": {
    "name": "ipython",
    "version": 3
   },
   "file_extension": ".py",
   "mimetype": "text/x-python",
   "name": "python",
   "nbconvert_exporter": "python",
   "pygments_lexer": "ipython3",
   "version": "3.7.4"
  }
 },
 "nbformat": 4,
 "nbformat_minor": 2
}
