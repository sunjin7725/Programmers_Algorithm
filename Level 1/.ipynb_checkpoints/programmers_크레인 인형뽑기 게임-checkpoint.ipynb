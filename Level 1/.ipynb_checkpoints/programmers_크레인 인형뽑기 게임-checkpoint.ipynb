{
 "cells": [
  {
   "cell_type": "code",
   "execution_count": 33,
   "metadata": {},
   "outputs": [],
   "source": [
    "import numpy as np"
   ]
  },
  {
   "cell_type": "code",
   "execution_count": 34,
   "metadata": {},
   "outputs": [],
   "source": [
    "board = [[0,0,0,0,0],[0,0,1,0,3],[0,2,5,0,1],[4,2,4,4,2],[3,5,1,3,1]]\n",
    "moves = [1,5,3,5,1,2,1,4]"
   ]
  },
  {
   "cell_type": "code",
   "execution_count": 35,
   "metadata": {},
   "outputs": [
    {
     "name": "stdout",
     "output_type": "stream",
     "text": [
      "[[0 0 0 0 0]\n",
      " [0 0 1 0 3]\n",
      " [0 2 5 0 1]\n",
      " [4 2 4 4 2]\n",
      " [3 5 1 3 1]]\n"
     ]
    }
   ],
   "source": [
    "print(np.array(board))"
   ]
  },
  {
   "cell_type": "code",
   "execution_count": 36,
   "metadata": {},
   "outputs": [],
   "source": [
    "board = np.rot90(np.array(board),3).tolist()"
   ]
  },
  {
   "cell_type": "code",
   "execution_count": 37,
   "metadata": {},
   "outputs": [
    {
     "name": "stdout",
     "output_type": "stream",
     "text": [
      "[[3], [5, 2, 2, 0, 0], [1, 4, 5, 1, 0], [3, 4, 0, 0, 0], [1, 2, 1, 3, 0]]\n",
      "[[3], [5, 2, 2, 0, 0], [1, 4, 5, 1, 0], [3, 4, 0, 0, 0], [1, 2, 1]]\n",
      "[[3], [5, 2, 2, 0, 0], [1, 4, 5], [3, 4, 0, 0, 0], [1, 2, 1]]\n",
      "[[3], [5, 2, 2, 0, 0], [1, 4, 5], [3, 4, 0, 0, 0], [1, 2]]\n",
      "[[], [5, 2, 2, 0, 0], [1, 4, 5], [3, 4, 0, 0, 0], [1, 2]]\n",
      "[[], [5, 2], [1, 4, 5], [3, 4, 0, 0, 0], [1, 2]]\n",
      "[[], [5, 2], [1, 4, 5], [3, 4, 0, 0, 0], [1, 2]]\n",
      "[[], [5, 2], [1, 4, 5], [3], [1, 2]]\n"
     ]
    }
   ],
   "source": [
    "stack = []\n",
    "count = 0\n",
    "for i in moves:\n",
    "    n = 0\n",
    "    while True:\n",
    "        try:\n",
    "            n = board[i-1].pop()\n",
    "            if n != 0:\n",
    "                break\n",
    "        except:\n",
    "            break\n",
    "    stack.append(n)\n",
    "    if len(stack) >= 2:\n",
    "        if stack[-1] == stack[-2]:\n",
    "            stack.pop()\n",
    "            stack.pop()\n",
    "            count += 2\n",
    "    "
   ]
  },
  {
   "cell_type": "code",
   "execution_count": 38,
   "metadata": {},
   "outputs": [
    {
     "data": {
      "text/plain": [
       "4"
      ]
     },
     "execution_count": 38,
     "metadata": {},
     "output_type": "execute_result"
    }
   ],
   "source": [
    "count"
   ]
  },
  {
   "cell_type": "code",
   "execution_count": null,
   "metadata": {},
   "outputs": [],
   "source": []
  }
 ],
 "metadata": {
  "kernelspec": {
   "display_name": "Python 3",
   "language": "python",
   "name": "python3"
  },
  "language_info": {
   "codemirror_mode": {
    "name": "ipython",
    "version": 3
   },
   "file_extension": ".py",
   "mimetype": "text/x-python",
   "name": "python",
   "nbconvert_exporter": "python",
   "pygments_lexer": "ipython3",
   "version": "3.7.4"
  }
 },
 "nbformat": 4,
 "nbformat_minor": 2
}
