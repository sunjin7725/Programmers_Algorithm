{
 "cells": [
  {
   "cell_type": "code",
   "execution_count": null,
   "metadata": {},
   "outputs": [],
   "source": [
    "def solution(answers):\n",
    "    _1 = [1, 2, 3, 4, 5]#5\n",
    "    _2 = [2, 1, 2, 3, 2, 4, 2, 5] #8\n",
    "    _3 = [3, 3, 1, 1, 2, 2, 4, 4, 5, 5] #10\n",
    "    \n",
    "    import math\n",
    "\n",
    "    diction = dict()\n",
    "    diction[1] = 0\n",
    "    diction[2] = 0\n",
    "    diction[3] = 0\n",
    "\n",
    "    for i in range(len(answers)):\n",
    "        if len(_1) < len(answers):\n",
    "            _1 *= math.ceil(len(answers)/5)\n",
    "            if answers[i] == _1[i]:\n",
    "                diction[1] += 1\n",
    "        else:\n",
    "            if answers[i] == _1[i]:\n",
    "                diction[1] += 1\n",
    "        if len(_2) < len(answers):\n",
    "            _2 *= math.ceil(len(answers)/8)\n",
    "            if answers[i] == _2[i]:\n",
    "                diction[2] += 1\n",
    "        else:\n",
    "            if answers[i] == _2[i]:\n",
    "                diction[2] += 1\n",
    "        if len(_3) < len(answers):\n",
    "            _3 *= math.ceil(len(answers)/10)\n",
    "            if answers[i] == _3[i]:\n",
    "                diction[3] += 1\n",
    "        else:\n",
    "            if answers[i] == _3[i]:\n",
    "                diction[3] += 1\n",
    "\n",
    "    diction_max = max(diction.keys(), key=(lambda k: diction[k]))\n",
    "    answer = []\n",
    "\n",
    "    for key, value in diction.items():\n",
    "        if value == diction[diction_max]:\n",
    "            answer.append(key)\n",
    "        \n",
    "    return answer"
   ]
  }
 ],
 "metadata": {
  "kernelspec": {
   "display_name": "Python 3",
   "language": "python",
   "name": "python3"
  },
  "language_info": {
   "codemirror_mode": {
    "name": "ipython",
    "version": 3
   },
   "file_extension": ".py",
   "mimetype": "text/x-python",
   "name": "python",
   "nbconvert_exporter": "python",
   "pygments_lexer": "ipython3",
   "version": "3.7.4"
  }
 },
 "nbformat": 4,
 "nbformat_minor": 2
}
