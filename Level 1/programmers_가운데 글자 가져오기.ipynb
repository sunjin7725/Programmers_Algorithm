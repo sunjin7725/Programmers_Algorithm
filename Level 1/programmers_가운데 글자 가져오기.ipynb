{
 "cells": [
  {
   "cell_type": "code",
   "execution_count": null,
   "metadata": {},
   "outputs": [],
   "source": [
    "def solution(s):\n",
    "    start = 0\n",
    "    end = len(s)\n",
    "    mid = (start+end)//2\n",
    "    answer = ''\n",
    "    if not len(s) % 2 == 0:\n",
    "        answer += s[mid]\n",
    "    else:\n",
    "        answer += s[mid-1]\n",
    "        answer += s[mid]\n",
    "    \n",
    "    return answer"
   ]
  }
 ],
 "metadata": {
  "kernelspec": {
   "display_name": "Python 3",
   "language": "python",
   "name": "python3"
  },
  "language_info": {
   "codemirror_mode": {
    "name": "ipython",
    "version": 3
   },
   "file_extension": ".py",
   "mimetype": "text/x-python",
   "name": "python",
   "nbconvert_exporter": "python",
   "pygments_lexer": "ipython3",
   "version": "3.7.4"
  }
 },
 "nbformat": 4,
 "nbformat_minor": 2
}
