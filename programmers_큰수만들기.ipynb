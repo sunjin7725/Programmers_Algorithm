{
 "cells": [
  {
   "cell_type": "code",
   "execution_count": 1,
   "metadata": {},
   "outputs": [],
   "source": [
    "number1 = \"1924\"\n",
    "k1 = 2\n",
    "answer1 = \"94\"\n",
    "number2 = \"1231234\"\n",
    "k2 = 3\n",
    "answer2 = \"3234\"\n",
    "number3 = \"4177252841\"\n",
    "k3 = 4\n",
    "answer3 = \"775841\""
   ]
  },
  {
   "cell_type": "code",
   "execution_count": 2,
   "metadata": {},
   "outputs": [],
   "source": [
    "number = number3\n",
    "k = k3"
   ]
  },
  {
   "cell_type": "code",
   "execution_count": 3,
   "metadata": {},
   "outputs": [],
   "source": [
    "result = []"
   ]
  },
  {
   "cell_type": "code",
   "execution_count": 4,
   "metadata": {},
   "outputs": [],
   "source": [
    "delete_num = 0\n",
    "count = 0\n",
    "\n",
    "    if number[0] * len(number) == number:\n",
    "        return \"\".join(list(number)[k:])\n",
    "\n",
    "while delete_num < k and count < len(number):\n",
    "    while len(result) > 0 and result[-1] < number[count]:\n",
    "        print(result)\n",
    "        result.pop()\n",
    "        delete_num += 1\n",
    "        if delete_num == k:\n",
    "            break\n",
    "        \n",
    "    result.append(number[count])\n",
    "    count+=1"
   ]
  },
  {
   "cell_type": "code",
   "execution_count": 5,
   "metadata": {},
   "outputs": [
    {
     "data": {
      "text/plain": [
       "'1111'"
      ]
     },
     "execution_count": 5,
     "metadata": {},
     "output_type": "execute_result"
    }
   ],
   "source": [
    "\"\".join(result + list(number[count:]))"
   ]
  },
  {
   "cell_type": "code",
   "execution_count": 7,
   "metadata": {},
   "outputs": [],
   "source": [
    "number = \"1111\"\n",
    "k = 5"
   ]
  },
  {
   "cell_type": "code",
   "execution_count": 8,
   "metadata": {},
   "outputs": [],
   "source": [
    "def solution(number, k):\n",
    "    result = []\n",
    "    \n",
    "    delete_num = 0\n",
    "    count = 0\n",
    "    \n",
    "    if number[0] * len(number) == number:\n",
    "        return \"\".join(list(number)[k:])\n",
    "\n",
    "    while delete_num < k:\n",
    "        while len(result) > 0 and result[-1] < number[count]:\n",
    "            result.pop()\n",
    "            delete_num += 1\n",
    "            if delete_num == k:\n",
    "                break\n",
    "\n",
    "        result.append(number[count])\n",
    "        count+=1\n",
    "        \n",
    "    if k>0:\n",
    "        return \"\".join(result + list(number[count:]))\n",
    "    else:\n",
    "        return number\n",
    "    \n",
    "## 12번 런타임 에러"
   ]
  },
  {
   "cell_type": "code",
   "execution_count": 9,
   "metadata": {},
   "outputs": [
    {
     "data": {
      "text/plain": [
       "''"
      ]
     },
     "execution_count": 9,
     "metadata": {},
     "output_type": "execute_result"
    }
   ],
   "source": [
    "solution(number, k)"
   ]
  },
  {
   "cell_type": "code",
   "execution_count": 11,
   "metadata": {},
   "outputs": [],
   "source": [
    "def solution(number, k):\n",
    "    result = []\n",
    "    \n",
    "    for i, num in enumerate(number):\n",
    "        while len(result) > 0 and result[-1] < num and k > 0:\n",
    "            result.pop()\n",
    "            k-=1\n",
    "        if k ==0:\n",
    "            result += list(number)[i:]\n",
    "            break\n",
    "        \n",
    "        result.append(num)\n",
    "            \n",
    "    return \"\".join(result)"
   ]
  },
  {
   "cell_type": "code",
   "execution_count": 12,
   "metadata": {},
   "outputs": [
    {
     "data": {
      "text/plain": [
       "'775841'"
      ]
     },
     "execution_count": 12,
     "metadata": {},
     "output_type": "execute_result"
    }
   ],
   "source": [
    "solution(number, k)"
   ]
  },
  {
   "cell_type": "code",
   "execution_count": null,
   "metadata": {},
   "outputs": [],
   "source": []
  }
 ],
 "metadata": {
  "kernelspec": {
   "display_name": "Python 3",
   "language": "python",
   "name": "python3"
  },
  "language_info": {
   "codemirror_mode": {
    "name": "ipython",
    "version": 3
   },
   "file_extension": ".py",
   "mimetype": "text/x-python",
   "name": "python",
   "nbconvert_exporter": "python",
   "pygments_lexer": "ipython3",
   "version": "3.7.4"
  }
 },
 "nbformat": 4,
 "nbformat_minor": 2
}
