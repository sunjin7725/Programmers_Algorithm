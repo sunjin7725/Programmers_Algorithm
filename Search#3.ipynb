{
 "cells": [
  {
   "cell_type": "code",
   "execution_count": 1,
   "metadata": {},
   "outputs": [],
   "source": [
    "baseball = [[123, 1, 1], [356, 1, 0], [327, 2, 0], [489, 0, 1]]"
   ]
  },
  {
   "cell_type": "code",
   "execution_count": 2,
   "metadata": {},
   "outputs": [],
   "source": [
    "def SameNumber(num1, num2): ## num1, num2 (String)\n",
    "    count = 0\n",
    "    \n",
    "    for i,num in enumerate(num1):\n",
    "        if num in num2:\n",
    "            count+=1\n",
    "            \n",
    "    return count"
   ]
  },
  {
   "cell_type": "code",
   "execution_count": 3,
   "metadata": {},
   "outputs": [],
   "source": [
    "def SamePosition(num1, num2):\n",
    "    count = 0\n",
    "    \n",
    "    for i,num in enumerate(num1):\n",
    "        for j, number in enumerate(num2):\n",
    "            if num == number:\n",
    "                if i == j:\n",
    "                    count+=1\n",
    "    \n",
    "    return count"
   ]
  },
  {
   "cell_type": "code",
   "execution_count": 4,
   "metadata": {},
   "outputs": [],
   "source": [
    "def NotSamePosition(num1, num2):\n",
    "    count = 0\n",
    "    \n",
    "    for i,num in enumerate(num1):\n",
    "        for j, number in enumerate(num2):\n",
    "            if num == number:\n",
    "                if not i == j:\n",
    "                    count+=1\n",
    "    \n",
    "    return count"
   ]
  },
  {
   "cell_type": "code",
   "execution_count": 5,
   "metadata": {},
   "outputs": [
    {
     "data": {
      "text/plain": [
       "(3, 0)"
      ]
     },
     "execution_count": 5,
     "metadata": {},
     "output_type": "execute_result"
    }
   ],
   "source": [
    "num1 = '123'\n",
    "num2 = '123'\n",
    "\n",
    "SamePosition(num1,num2), NotSamePosition(num1, num2)"
   ]
  },
  {
   "cell_type": "code",
   "execution_count": 6,
   "metadata": {},
   "outputs": [],
   "source": [
    "import itertools\n",
    "\n",
    "test = ['1','2','3','4','5','6','7','8','9']\n",
    "\n",
    "case = list(map(''.join,itertools.permutations(test,3)))\n",
    "case_num = len(case)"
   ]
  },
  {
   "cell_type": "code",
   "execution_count": 15,
   "metadata": {},
   "outputs": [
    {
     "data": {
      "text/plain": [
       "(['324', '328'], 2)"
      ]
     },
     "execution_count": 15,
     "metadata": {},
     "output_type": "execute_result"
    }
   ],
   "source": [
    "test_case = case.copy()\n",
    "\n",
    "for idx, inner_baseball in enumerate(baseball):\n",
    "    inner_baseball_num = str(inner_baseball[0])\n",
    "    same_number = inner_baseball[1]+inner_baseball[2]\n",
    "    same_position_number = inner_baseball[1]\n",
    "    not_same_position_number = inner_baseball[2]\n",
    "    for i,number in enumerate(case):\n",
    "        if not SameNumber(inner_baseball_num,number) == same_number:\n",
    "            if number in test_case:\n",
    "                test_case.remove(number)\n",
    "        if not SamePosition(inner_baseball_num,number)==same_position_number:\n",
    "            if not NotSamePosition(inner_baseball_num,number) == not_same_position_number:\n",
    "                if number in test_case:\n",
    "                    test_case.remove(number)\n",
    "\n",
    "test_case , len(test_case)"
   ]
  },
  {
   "cell_type": "code",
   "execution_count": null,
   "metadata": {},
   "outputs": [],
   "source": []
  }
 ],
 "metadata": {
  "kernelspec": {
   "display_name": "Python 3",
   "language": "python",
   "name": "python3"
  }
 },
 "nbformat": 4,
 "nbformat_minor": 2
}
