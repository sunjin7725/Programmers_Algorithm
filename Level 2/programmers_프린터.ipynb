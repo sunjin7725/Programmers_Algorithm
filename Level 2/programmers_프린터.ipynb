{
 "cells": [
  {
   "cell_type": "code",
   "execution_count": 12,
   "metadata": {},
   "outputs": [],
   "source": [
    "priorities = [1, 1, 9, 1, 1, 1]\n",
    "location = 0"
   ]
  },
  {
   "cell_type": "code",
   "execution_count": 13,
   "metadata": {},
   "outputs": [],
   "source": [
    "def solution(priorities, location):\n",
    "    idx = 0\n",
    "    answer = 0\n",
    "    while len(priorities) > 0:\n",
    "        if priorities[0] == max(priorities):\n",
    "            priorities.pop(0)\n",
    "            answer += 1\n",
    "\n",
    "            if location == 0:\n",
    "                return answer\n",
    "            else:\n",
    "                location -= 1\n",
    "        else:\n",
    "            priorities.append(priorities.pop(0))\n",
    "\n",
    "            if location == 0:\n",
    "                location = len(priorities) - 1\n",
    "            else:\n",
    "                location -= 1"
   ]
  },
  {
   "cell_type": "code",
   "execution_count": 14,
   "metadata": {},
   "outputs": [
    {
     "data": {
      "text/plain": [
       "5"
      ]
     },
     "execution_count": 14,
     "metadata": {},
     "output_type": "execute_result"
    }
   ],
   "source": [
    "solution(priorities,location)"
   ]
  },
  {
   "cell_type": "code",
   "execution_count": null,
   "metadata": {},
   "outputs": [],
   "source": []
  }
 ],
 "metadata": {
  "kernelspec": {
   "display_name": "Python 3",
   "language": "python",
   "name": "python3"
  },
  "language_info": {
   "codemirror_mode": {
    "name": "ipython",
    "version": 3
   },
   "file_extension": ".py",
   "mimetype": "text/x-python",
   "name": "python",
   "nbconvert_exporter": "python",
   "pygments_lexer": "ipython3",
   "version": "3.7.4"
  }
 },
 "nbformat": 4,
 "nbformat_minor": 2
}
