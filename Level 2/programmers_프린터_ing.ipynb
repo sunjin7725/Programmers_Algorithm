{
 "cells": [
  {
   "cell_type": "code",
   "execution_count": null,
   "metadata": {},
   "outputs": [],
   "source": [
    "def find(A):\n",
    "    p,v = A.pop(0)\n",
    "    \n",
    "    for i in A:\n",
    "        _p,_v = i\n",
    "        if _v > v:\n",
    "            A.append((p,v))\n",
    "            return find(A)\n",
    "    A.append((p,v))\n",
    "    return(A)\n",
    "\n",
    "def solution(priorities, location):\n",
    "    A = []\n",
    "    for i in range(len(priorities)):\n",
    "        A.append((i,priorities[i]))\n",
    "        \n",
    "    S = find(A)\n",
    "    count = 0\n",
    "    for i in S:\n",
    "        count+=1\n",
    "        p,v = i\n",
    "        if p == location:\n",
    "            if count == len(priorities):\n",
    "                return 1\n",
    "            else:\n",
    "                return count+1"
   ]
  }
 ],
 "metadata": {
  "kernelspec": {
   "display_name": "Python 3",
   "language": "python",
   "name": "python3"
  },
  "language_info": {
   "codemirror_mode": {
    "name": "ipython",
    "version": 3
   },
   "file_extension": ".py",
   "mimetype": "text/x-python",
   "name": "python",
   "nbconvert_exporter": "python",
   "pygments_lexer": "ipython3",
   "version": "3.7.4"
  }
 },
 "nbformat": 4,
 "nbformat_minor": 2
}
