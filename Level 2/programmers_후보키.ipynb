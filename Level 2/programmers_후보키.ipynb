{
 "cells": [
  {
   "cell_type": "code",
   "execution_count": 11,
   "metadata": {},
   "outputs": [],
   "source": [
    "from collections import Counter"
   ]
  },
  {
   "cell_type": "code",
   "execution_count": 12,
   "metadata": {},
   "outputs": [],
   "source": [
    "relation = [[\"100\",\"ryan\",\"music\",\"2\"],[\"200\",\"apeach\",\"math\",\"2\"],[\"300\",\"tube\",\"computer\",\"3\"],[\"400\",\"con\",\"computer\",\"4\"],[\"500\",\"muzi\",\"music\",\"3\"],[\"600\",\"apeach\",\"music\",\"2\"]]"
   ]
  },
  {
   "cell_type": "code",
   "execution_count": 13,
   "metadata": {},
   "outputs": [],
   "source": [
    "_dict_list = []"
   ]
  },
  {
   "cell_type": "code",
   "execution_count": 14,
   "metadata": {},
   "outputs": [],
   "source": [
    "for i in relation:\n",
    "    _dict = {}\n",
    "    _dict['number'] = i[0]\n",
    "    _dict['name'] = i[1]\n",
    "    _dict['subject'] = i[2]\n",
    "    _dict['grade'] = i[3]\n",
    "    _dict_list.append(_dict)"
   ]
  },
  {
   "cell_type": "code",
   "execution_count": 15,
   "metadata": {},
   "outputs": [
    {
     "data": {
      "text/plain": [
       "[{'number': '100', 'name': 'ryan', 'subject': 'music', 'grade': '2'},\n",
       " {'number': '200', 'name': 'apeach', 'subject': 'math', 'grade': '2'},\n",
       " {'number': '300', 'name': 'tube', 'subject': 'computer', 'grade': '3'},\n",
       " {'number': '400', 'name': 'con', 'subject': 'computer', 'grade': '4'},\n",
       " {'number': '500', 'name': 'muzi', 'subject': 'music', 'grade': '3'},\n",
       " {'number': '600', 'name': 'apeach', 'subject': 'music', 'grade': '2'}]"
      ]
     },
     "execution_count": 15,
     "metadata": {},
     "output_type": "execute_result"
    }
   ],
   "source": [
    "_dict_list"
   ]
  },
  {
   "cell_type": "code",
   "execution_count": null,
   "metadata": {},
   "outputs": [],
   "source": []
  }
 ],
 "metadata": {
  "kernelspec": {
   "display_name": "Python 3",
   "language": "python",
   "name": "python3"
  },
  "language_info": {
   "codemirror_mode": {
    "name": "ipython",
    "version": 3
   },
   "file_extension": ".py",
   "mimetype": "text/x-python",
   "name": "python",
   "nbconvert_exporter": "python",
   "pygments_lexer": "ipython3",
   "version": "3.7.4"
  }
 },
 "nbformat": 4,
 "nbformat_minor": 2
}
