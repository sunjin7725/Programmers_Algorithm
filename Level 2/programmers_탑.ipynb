{
 "cells": [
  {
   "cell_type": "code",
   "execution_count": 16,
   "metadata": {},
   "outputs": [],
   "source": [
    "heights = [6, 9, 5, 7, 4]\n",
    "heights = [3,9,9,3,5,7,2]"
   ]
  },
  {
   "cell_type": "code",
   "execution_count": 17,
   "metadata": {},
   "outputs": [],
   "source": [
    "answer = []\n",
    "count = len(heights) - 1\n",
    "result = []\n",
    "while count > -1:\n",
    "    num = heights.pop()\n",
    "    append_num = 0\n",
    "    for i in range(len(heights),0,-1):\n",
    "        if heights[i-1] > num:\n",
    "            append_num = i\n",
    "            break\n",
    "    result.append(append_num)\n",
    "    count -= 1"
   ]
  },
  {
   "cell_type": "code",
   "execution_count": 18,
   "metadata": {},
   "outputs": [
    {
     "data": {
      "text/plain": [
       "[6, 3, 3, 3, 0, 0, 0]"
      ]
     },
     "execution_count": 18,
     "metadata": {},
     "output_type": "execute_result"
    }
   ],
   "source": [
    "result"
   ]
  },
  {
   "cell_type": "code",
   "execution_count": 19,
   "metadata": {},
   "outputs": [],
   "source": [
    "\n",
    "for i in range(len(result),0,-1):\n",
    "    answer.append(result[i-1])"
   ]
  },
  {
   "cell_type": "code",
   "execution_count": 20,
   "metadata": {},
   "outputs": [
    {
     "data": {
      "text/plain": [
       "[0, 0, 0, 3, 3, 3, 6]"
      ]
     },
     "execution_count": 20,
     "metadata": {},
     "output_type": "execute_result"
    }
   ],
   "source": [
    "answer"
   ]
  },
  {
   "cell_type": "code",
   "execution_count": 21,
   "metadata": {},
   "outputs": [],
   "source": [
    "def solution(heights):\n",
    "    answer = []\n",
    "    count = len(heights) - 1\n",
    "    result = []\n",
    "    while count > -1:\n",
    "        num = heights.pop()\n",
    "        append_num = 0\n",
    "        for i in range(len(heights),0,-1):\n",
    "            if heights[i-1] > num:\n",
    "                append_num = i\n",
    "                break\n",
    "        result.append(append_num)\n",
    "        count -= 1\n",
    "        \n",
    "    for i in range(len(result),0,-1):\n",
    "        answer.append(result[i-1])\n",
    "    return answer"
   ]
  },
  {
   "cell_type": "code",
   "execution_count": null,
   "metadata": {},
   "outputs": [],
   "source": []
  }
 ],
 "metadata": {
  "kernelspec": {
   "display_name": "Python 3",
   "language": "python",
   "name": "python3"
  },
  "language_info": {
   "codemirror_mode": {
    "name": "ipython",
    "version": 3
   },
   "file_extension": ".py",
   "mimetype": "text/x-python",
   "name": "python",
   "nbconvert_exporter": "python",
   "pygments_lexer": "ipython3",
   "version": "3.7.4"
  }
 },
 "nbformat": 4,
 "nbformat_minor": 2
}
