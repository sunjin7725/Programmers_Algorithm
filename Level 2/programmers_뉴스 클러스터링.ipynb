{
 "cells": [
  {
   "cell_type": "code",
   "execution_count": null,
   "metadata": {},
   "outputs": [],
   "source": [
    "import re\n",
    "from collections import Counter as mset\n",
    "\n",
    "p = re.compile(\"[A-Z]{2}\")\n",
    "\n",
    "def multiset(string):\n",
    "    output = []\n",
    "    \n",
    "    for i in range(len(string)-1):\n",
    "        if p.match(string[i:i+2]):\n",
    "            output.append(string[i:i+2])\n",
    "            \n",
    "    return output\n",
    "\n",
    "def solution(str1, str2):\n",
    "    array1 = multiset(str1.upper())\n",
    "    array2 = multiset(str2.upper())\n",
    "    if len(array1) is 0 and len(array2) is 0:\n",
    "        return 65536\n",
    "    \n",
    "    len_inter = len(list((mset(array1) & mset(array2)).elements()))\n",
    "    len_union = len(list((mset(array1) | mset(array2)).elements()))\n",
    "    \n",
    "    return int(len_inter/len_union*65536)"
   ]
  }
 ],
 "metadata": {
  "kernelspec": {
   "display_name": "Python 3",
   "language": "python",
   "name": "python3"
  },
  "language_info": {
   "codemirror_mode": {
    "name": "ipython",
    "version": 3
   },
   "file_extension": ".py",
   "mimetype": "text/x-python",
   "name": "python",
   "nbconvert_exporter": "python",
   "pygments_lexer": "ipython3",
   "version": "3.7.4"
  }
 },
 "nbformat": 4,
 "nbformat_minor": 2
}
