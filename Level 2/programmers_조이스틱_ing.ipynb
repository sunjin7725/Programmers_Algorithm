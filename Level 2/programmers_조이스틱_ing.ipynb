{
 "cells": [
  {
   "cell_type": "code",
   "execution_count": 1,
   "metadata": {},
   "outputs": [
    {
     "data": {
      "text/plain": [
       "90"
      ]
     },
     "execution_count": 1,
     "metadata": {},
     "output_type": "execute_result"
    }
   ],
   "source": [
    "ord(\"Z\")"
   ]
  },
  {
   "cell_type": "code",
   "execution_count": 2,
   "metadata": {},
   "outputs": [
    {
     "data": {
      "text/plain": [
       "65"
      ]
     },
     "execution_count": 2,
     "metadata": {},
     "output_type": "execute_result"
    }
   ],
   "source": [
    "ord(\"A\")"
   ]
  },
  {
   "cell_type": "code",
   "execution_count": 21,
   "metadata": {},
   "outputs": [],
   "source": [
    "name = \"JEROEN\"\n",
    "name = \"JAN\"\n",
    "name = \"ABABAAAAAAABA\""
   ]
  },
  {
   "cell_type": "code",
   "execution_count": 22,
   "metadata": {},
   "outputs": [
    {
     "name": "stdout",
     "output_type": "stream",
     "text": [
      "A 0\n",
      "B 1\n",
      "A 0\n",
      "B 1\n",
      "A 0\n",
      "A 0\n",
      "A 0\n",
      "A 0\n",
      "A 0\n",
      "A 0\n",
      "A 0\n",
      "B 1\n",
      "A 0\n"
     ]
    }
   ],
   "source": [
    "count = len(name)-1\n",
    "for i in name:\n",
    "    if ord(i)-ord(\"A\") > 13:\n",
    "        print(i, ord(\"Z\")-ord(i))\n",
    "        count += ord(\"Z\")-ord(i)+1\n",
    "    else:\n",
    "        print(i,ord(i)-ord(\"A\"))\n",
    "        count += ord(i)-ord(\"A\")\n",
    "\n",
    "if name[1] == \"A\":\n",
    "    count -=1"
   ]
  },
  {
   "cell_type": "code",
   "execution_count": 23,
   "metadata": {},
   "outputs": [
    {
     "data": {
      "text/plain": [
       "15"
      ]
     },
     "execution_count": 23,
     "metadata": {},
     "output_type": "execute_result"
    }
   ],
   "source": [
    "count"
   ]
  },
  {
   "cell_type": "code",
   "execution_count": null,
   "metadata": {},
   "outputs": [],
   "source": []
  }
 ],
 "metadata": {
  "kernelspec": {
   "display_name": "Python 3",
   "language": "python",
   "name": "python3"
  },
  "language_info": {
   "codemirror_mode": {
    "name": "ipython",
    "version": 3
   },
   "file_extension": ".py",
   "mimetype": "text/x-python",
   "name": "python",
   "nbconvert_exporter": "python",
   "pygments_lexer": "ipython3",
   "version": "3.7.4"
  }
 },
 "nbformat": 4,
 "nbformat_minor": 2
}
