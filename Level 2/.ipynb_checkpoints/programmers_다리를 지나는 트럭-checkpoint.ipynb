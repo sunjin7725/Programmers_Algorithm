{
 "cells": [
  {
   "cell_type": "code",
   "execution_count": 47,
   "metadata": {},
   "outputs": [],
   "source": [
    "bridge_length = 2\n",
    "weight = 10\n",
    "truck_weights = [7,4,5,6]"
   ]
  },
  {
   "cell_type": "code",
   "execution_count": 48,
   "metadata": {},
   "outputs": [
    {
     "name": "stdout",
     "output_type": "stream",
     "text": [
      "1 [0, 7] 7\n",
      "2 [7, 0] 7\n",
      "3 [0, 4] 4\n",
      "4 [4, 5] 9\n",
      "5 [5, 0] 5\n",
      "6 [0, 6] 6\n"
     ]
    }
   ],
   "source": [
    "time = 0\n",
    "now_truck = 0\n",
    "truck_idx = 0\n",
    "bridge = [0] * bridge_length\n",
    "\n",
    "while len(truck_weights) > 0:\n",
    "    now_truck -= bridge.pop(0)\n",
    "    time += 1\n",
    "    if now_truck + truck_weights[0] <= weight:\n",
    "        truck = truck_weights.pop(0)\n",
    "        now_truck += truck\n",
    "        bridge.append(truck)\n",
    "    else:\n",
    "        bridge.append(0)\n",
    "    print(time, bridge, now_truck)"
   ]
  },
  {
   "cell_type": "code",
   "execution_count": 49,
   "metadata": {},
   "outputs": [
    {
     "data": {
      "text/plain": [
       "[0, 6]"
      ]
     },
     "execution_count": 49,
     "metadata": {},
     "output_type": "execute_result"
    }
   ],
   "source": [
    "bridge"
   ]
  },
  {
   "cell_type": "code",
   "execution_count": 50,
   "metadata": {},
   "outputs": [
    {
     "data": {
      "text/plain": [
       "6"
      ]
     },
     "execution_count": 50,
     "metadata": {},
     "output_type": "execute_result"
    }
   ],
   "source": [
    "time"
   ]
  },
  {
   "cell_type": "code",
   "execution_count": null,
   "metadata": {},
   "outputs": [],
   "source": []
  }
 ],
 "metadata": {
  "kernelspec": {
   "display_name": "Python 3",
   "language": "python",
   "name": "python3"
  },
  "language_info": {
   "codemirror_mode": {
    "name": "ipython",
    "version": 3
   },
   "file_extension": ".py",
   "mimetype": "text/x-python",
   "name": "python",
   "nbconvert_exporter": "python",
   "pygments_lexer": "ipython3",
   "version": "3.7.4"
  }
 },
 "nbformat": 4,
 "nbformat_minor": 2
}
