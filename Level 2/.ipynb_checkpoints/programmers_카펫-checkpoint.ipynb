{
 "cells": [
  {
   "cell_type": "code",
   "execution_count": null,
   "metadata": {},
   "outputs": [],
   "source": [
    "# 문제가 개편 되었습니다. 이로 인해 함수 구성이 변경되어, 과거의 코드는 동작하지 않을 수 있습니다.\n",
    "# 새로운 함수 구성을 적용하려면 [코드 초기화] 버튼을 누르세요. 단, [코드 초기화] 버튼을 누르면 작성 중인 코드는 사라집니다.\n",
    "from math import ceil\n",
    "\n",
    "def Square(x):\n",
    "    a = []\n",
    "    b = []\n",
    "    \n",
    "    for i in range(2,int(x**0.5)+1):\n",
    "        if x % i == 0:\n",
    "            a.append(i)\n",
    "            b.append(x/ i)\n",
    "            \n",
    "    return a, b\n",
    "\n",
    "def solution(brown, red):\n",
    "    height, width = Square(brown+red)\n",
    "\n",
    "    answer = []\n",
    "    for i in range(len(width)):\n",
    "        if ((width[i]-2)*(height[i]-2)) == red:\n",
    "            answer.append(int(width[i]))\n",
    "            answer.append(int(height[i]))\n",
    "            \n",
    "    return answer"
   ]
  }
 ],
 "metadata": {
  "kernelspec": {
   "display_name": "Python 3",
   "language": "python",
   "name": "python3"
  },
  "language_info": {
   "codemirror_mode": {
    "name": "ipython",
    "version": 3
   },
   "file_extension": ".py",
   "mimetype": "text/x-python",
   "name": "python",
   "nbconvert_exporter": "python",
   "pygments_lexer": "ipython3",
   "version": "3.7.4"
  }
 },
 "nbformat": 4,
 "nbformat_minor": 2
}
