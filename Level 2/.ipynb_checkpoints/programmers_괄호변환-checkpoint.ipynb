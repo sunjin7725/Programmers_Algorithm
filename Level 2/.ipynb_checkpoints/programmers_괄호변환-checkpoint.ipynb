{
 "cells": [
  {
   "cell_type": "code",
   "execution_count": null,
   "metadata": {},
   "outputs": [],
   "source": [
    "def balance(s):\n",
    "    _dict = {\"(\":0,\")\":0}\n",
    "    u=\"\"\n",
    "    v=\"\"\n",
    "    for i in range(len(s)):\n",
    "        if s[i] == \"(\":\n",
    "            _dict[\"(\"] += 1\n",
    "        else: _dict[\")\"] += 1\n",
    "\n",
    "        if _dict[\"(\"] == _dict[\")\"]:\n",
    "            u = s[:i+1]\n",
    "            v = s[i+1:]\n",
    "            break\n",
    "\n",
    "    return u,v\n",
    "\n",
    "def solution(p):\n",
    "    if p is \"\": return p\n",
    "    \n",
    "    u,v = balance(p)\n",
    "    \n",
    "    if u[0] is \"(\":\n",
    "        a_u = solution(v)\n",
    "        return u + a_u\n",
    "    \n",
    "    else:\n",
    "        collect_u =\"(\"\n",
    "        _str = solution(v)\n",
    "        collect_u += _str\n",
    "        collect_u += \")\"\n",
    "        u = list(u[1:-1])\n",
    "        for i in range(len(u)):\n",
    "            if u[i] == \"(\": \n",
    "                u[i] = \")\"\n",
    "            else: \n",
    "                u[i] = \"(\"\n",
    "        \n",
    "        collect_u += \"\".join(u)\n",
    "        \n",
    "        return collect_u"
   ]
  }
 ],
 "metadata": {
  "kernelspec": {
   "display_name": "Python 3",
   "language": "python",
   "name": "python3"
  },
  "language_info": {
   "codemirror_mode": {
    "name": "ipython",
    "version": 3
   },
   "file_extension": ".py",
   "mimetype": "text/x-python",
   "name": "python",
   "nbconvert_exporter": "python",
   "pygments_lexer": "ipython3",
   "version": "3.7.4"
  }
 },
 "nbformat": 4,
 "nbformat_minor": 2
}
