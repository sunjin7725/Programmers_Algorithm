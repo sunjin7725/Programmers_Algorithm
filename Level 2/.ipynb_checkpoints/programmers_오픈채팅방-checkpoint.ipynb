{
 "cells": [
  {
   "cell_type": "code",
   "execution_count": null,
   "metadata": {},
   "outputs": [],
   "source": [
    "def solution(record):\n",
    "    not_change = []\n",
    "    uid_dict = {}\n",
    "    enter = \"님이 들어왔습니다.\"\n",
    "    leave = \"님이 나갔습니다.\"\n",
    "\n",
    "    for inner in record:\n",
    "        status = inner.split()[0]\n",
    "        uid = inner.split()[1]\n",
    "        if status == \"Enter\":\n",
    "            uid_dict[uid] = inner.split()[2]\n",
    "            not_change.append(uid + \",0\")\n",
    "        elif status == \"Leave\":\n",
    "            not_change.append(uid + \",1\")\n",
    "        else:\n",
    "            uid_dict[uid] = inner.split()[2]\n",
    "            \n",
    "    result = []\n",
    "    for inner in not_change:\n",
    "        status = inner.split(',')[1]\n",
    "        uid = inner.split(',')[0]\n",
    "\n",
    "        if status == '0':\n",
    "            result.append(uid_dict[uid] + enter)\n",
    "        else:\n",
    "            result.append(uid_dict[uid] + leave)\n",
    "        \n",
    "    \n",
    "    return result"
   ]
  }
 ],
 "metadata": {
  "kernelspec": {
   "display_name": "Python 3",
   "language": "python",
   "name": "python3"
  },
  "language_info": {
   "codemirror_mode": {
    "name": "ipython",
    "version": 3
   },
   "file_extension": ".py",
   "mimetype": "text/x-python",
   "name": "python",
   "nbconvert_exporter": "python",
   "pygments_lexer": "ipython3",
   "version": "3.7.4"
  }
 },
 "nbformat": 4,
 "nbformat_minor": 2
}
