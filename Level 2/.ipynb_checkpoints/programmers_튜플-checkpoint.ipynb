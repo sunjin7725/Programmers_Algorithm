{
 "cells": [
  {
   "cell_type": "code",
   "execution_count": 40,
   "metadata": {},
   "outputs": [],
   "source": [
    "s = \"{{20,111},{111}}\""
   ]
  },
  {
   "cell_type": "code",
   "execution_count": 41,
   "metadata": {},
   "outputs": [
    {
     "name": "stdout",
     "output_type": "stream",
     "text": [
      "[[20, 111], [111]]\n"
     ]
    }
   ],
   "source": [
    "inner = []\n",
    "s_list = []\n",
    "num = \"\"\n",
    "for i in range(1,len(s)-1):\n",
    "    if s[i] == \"{\":\n",
    "        inner = []\n",
    "    elif s[i].isnumeric():\n",
    "        if s[i+1].isnumeric():\n",
    "            num += s[i]\n",
    "        else:\n",
    "            num += s[i]\n",
    "            inner.append(int(num))\n",
    "            num = \"\"\n",
    "    elif s[i] == \"}\":\n",
    "        s_list.append(inner)\n",
    "print(s_list)"
   ]
  },
  {
   "cell_type": "code",
   "execution_count": 42,
   "metadata": {},
   "outputs": [],
   "source": [
    "s_list.sort(key=len)"
   ]
  },
  {
   "cell_type": "code",
   "execution_count": 43,
   "metadata": {},
   "outputs": [
    {
     "data": {
      "text/plain": [
       "[[111], [20, 111]]"
      ]
     },
     "execution_count": 43,
     "metadata": {},
     "output_type": "execute_result"
    }
   ],
   "source": [
    "s_list"
   ]
  },
  {
   "cell_type": "code",
   "execution_count": 28,
   "metadata": {},
   "outputs": [],
   "source": [
    "answer = []\n",
    "for i in s_list:\n",
    "    for j in i:\n",
    "        if j not in answer:\n",
    "            answer.append(j)"
   ]
  },
  {
   "cell_type": "code",
   "execution_count": 29,
   "metadata": {},
   "outputs": [
    {
     "data": {
      "text/plain": [
       "[2, 1, 3, 4]"
      ]
     },
     "execution_count": 29,
     "metadata": {},
     "output_type": "execute_result"
    }
   ],
   "source": [
    "answer"
   ]
  },
  {
   "cell_type": "code",
   "execution_count": 35,
   "metadata": {},
   "outputs": [],
   "source": [
    "def solution(s):\n",
    "    inner = []\n",
    "    s_list = []\n",
    "    num = \"\"\n",
    "    for i in range(1,len(s)-1):\n",
    "        if s[i] == \"{\":\n",
    "            inner = []\n",
    "        elif s[i].isnumeric():\n",
    "            if s[i+1].isnumeric():\n",
    "                num += s[i]\n",
    "            else:\n",
    "                num += s[i]\n",
    "                inner.append(int(num))\n",
    "                num = \"\"\n",
    "        elif s[i] == \"}\":\n",
    "            s_list.append(inner)\n",
    "    s_list.sort(key=len)\n",
    "      \n",
    "    answer = []\n",
    "    for i in s_list:\n",
    "        for j in i:\n",
    "            if j not in answer:\n",
    "                answer.append(j)\n",
    "    \n",
    "    return answer"
   ]
  },
  {
   "cell_type": "code",
   "execution_count": 36,
   "metadata": {},
   "outputs": [
    {
     "name": "stdout",
     "output_type": "stream",
     "text": [
      "[['', '', ''], ['', ''], ['', '', '', ''], ['']]\n"
     ]
    },
    {
     "data": {
      "text/plain": [
       "['']"
      ]
     },
     "execution_count": 36,
     "metadata": {},
     "output_type": "execute_result"
    }
   ],
   "source": [
    "solution(s)"
   ]
  },
  {
   "cell_type": "code",
   "execution_count": null,
   "metadata": {},
   "outputs": [],
   "source": []
  }
 ],
 "metadata": {
  "kernelspec": {
   "display_name": "Python 3",
   "language": "python",
   "name": "python3"
  },
  "language_info": {
   "codemirror_mode": {
    "name": "ipython",
    "version": 3
   },
   "file_extension": ".py",
   "mimetype": "text/x-python",
   "name": "python",
   "nbconvert_exporter": "python",
   "pygments_lexer": "ipython3",
   "version": "3.7.4"
  }
 },
 "nbformat": 4,
 "nbformat_minor": 2
}
