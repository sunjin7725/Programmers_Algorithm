{
 "cells": [
  {
   "cell_type": "code",
   "execution_count": 66,
   "metadata": {},
   "outputs": [],
   "source": [
    "um = {'C':'0', 'C#':'1', 'D':'2', 'D#':'3', 'E':'4', 'F':'5', 'F#':'6', 'G':'7', 'G#':'8', 'A':'9', 'A#':'A', 'B':'B'}"
   ]
  },
  {
   "cell_type": "code",
   "execution_count": 67,
   "metadata": {},
   "outputs": [],
   "source": [
    "def convert(s):\n",
    "    um = {'C':'0', 'C#':'1', 'D':'2', 'D#':'3', 'E':'4','E#':'5', 'F':'6', 'F#':'7', 'G':'8', 'G#':'9', 'A':'A', 'A#':'B', 'B':'C'}\n",
    "    array = []\n",
    "    result = ''\n",
    "    for i in s:\n",
    "        if i == '#':\n",
    "            array[-1] += '#'\n",
    "        else:\n",
    "            array.append(i)\n",
    "            \n",
    "    for i in array:\n",
    "        result+=um[i]\n",
    "        \n",
    "    return result"
   ]
  },
  {
   "cell_type": "code",
   "execution_count": 68,
   "metadata": {},
   "outputs": [],
   "source": [
    "m = \"ABCDEFG\"\n",
    "musicinfos = [\"12:00,12:14,HELLO,CDEFGAB\", \"13:00,13:05,WORLD,ABCDEF\"]"
   ]
  },
  {
   "cell_type": "code",
   "execution_count": 70,
   "metadata": {},
   "outputs": [
    {
     "name": "stdout",
     "output_type": "stream",
     "text": [
      "024579B024579B\n",
      "9B024\n"
     ]
    }
   ],
   "source": [
    "def solution(m, musicinfos):\n",
    "    max_time = 0\n",
    "    answer = ''\n",
    "    for i in musicinfos:\n",
    "        start, end, name, code = i.split(',')\n",
    "        start = start.split(':')\n",
    "        end = end.split(':')\n",
    "        time = (int(end[0])-int(start[0]))*60 + (int(end[1])-int(start[1]))\n",
    "\n",
    "        code = convert(code)\n",
    "        if int(time/len(code)) > 0:\n",
    "            code = code*int(time/len(code))\n",
    "        else:\n",
    "            code = code[:time]\n",
    "\n",
    "        if convert(m) in code and max_time < time:\n",
    "            answer = name\n",
    "            max_time = time\n",
    "    if answer == '':\n",
    "        return \"(None)\"\n",
    "    else:\n",
    "        return answer"
   ]
  },
  {
   "cell_type": "code",
   "execution_count": null,
   "metadata": {},
   "outputs": [],
   "source": []
  }
 ],
 "metadata": {
  "kernelspec": {
   "display_name": "Python 3",
   "language": "python",
   "name": "python3"
  },
  "language_info": {
   "codemirror_mode": {
    "name": "ipython",
    "version": 3
   },
   "file_extension": ".py",
   "mimetype": "text/x-python",
   "name": "python",
   "nbconvert_exporter": "python",
   "pygments_lexer": "ipython3",
   "version": "3.7.4"
  }
 },
 "nbformat": 4,
 "nbformat_minor": 2
}
