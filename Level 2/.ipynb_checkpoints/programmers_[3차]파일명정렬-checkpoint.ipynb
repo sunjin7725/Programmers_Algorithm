{
 "cells": [
  {
   "cell_type": "code",
   "execution_count": 60,
   "metadata": {},
   "outputs": [],
   "source": [
    "files = [\"img12sdf110.png\", \"img10asdf1010.png\", \"img02.png\", \"img1.png\", \"IMG01.GIF\", \"img2.JPG\"]"
   ]
  },
  {
   "cell_type": "code",
   "execution_count": 61,
   "metadata": {},
   "outputs": [],
   "source": [
    "import re"
   ]
  },
  {
   "cell_type": "code",
   "execution_count": 64,
   "metadata": {},
   "outputs": [],
   "source": [
    "split_files = [re.split(\"([0-9]+)\",i) for i in files]"
   ]
  },
  {
   "cell_type": "code",
   "execution_count": 65,
   "metadata": {},
   "outputs": [
    {
     "data": {
      "text/plain": [
       "[['img', '12', 'sdf', '110', '.png'],\n",
       " ['img', '10', 'asdf', '1010', '.png'],\n",
       " ['img', '02', '.png'],\n",
       " ['img', '1', '.png'],\n",
       " ['IMG', '01', '.GIF'],\n",
       " ['img', '2', '.JPG']]"
      ]
     },
     "execution_count": 65,
     "metadata": {},
     "output_type": "execute_result"
    }
   ],
   "source": [
    "split_files"
   ]
  },
  {
   "cell_type": "code",
   "execution_count": 66,
   "metadata": {},
   "outputs": [],
   "source": [
    "split_files = sorted(split_files,key = lambda x:(x[0].lower(),int(x[1])))"
   ]
  },
  {
   "cell_type": "code",
   "execution_count": 67,
   "metadata": {},
   "outputs": [
    {
     "data": {
      "text/plain": [
       "[['img', '1', '.png'],\n",
       " ['IMG', '01', '.GIF'],\n",
       " ['img', '02', '.png'],\n",
       " ['img', '2', '.JPG'],\n",
       " ['img', '10', 'asdf', '1010', '.png'],\n",
       " ['img', '12', 'sdf', '110', '.png']]"
      ]
     },
     "execution_count": 67,
     "metadata": {},
     "output_type": "execute_result"
    }
   ],
   "source": [
    "split_files"
   ]
  },
  {
   "cell_type": "code",
   "execution_count": 68,
   "metadata": {},
   "outputs": [],
   "source": [
    "answer = [''.join(i) for i in split_files]"
   ]
  },
  {
   "cell_type": "code",
   "execution_count": 69,
   "metadata": {},
   "outputs": [
    {
     "data": {
      "text/plain": [
       "['img1.png',\n",
       " 'IMG01.GIF',\n",
       " 'img02.png',\n",
       " 'img2.JPG',\n",
       " 'img10asdf1010.png',\n",
       " 'img12sdf110.png']"
      ]
     },
     "execution_count": 69,
     "metadata": {},
     "output_type": "execute_result"
    }
   ],
   "source": [
    "answer"
   ]
  },
  {
   "cell_type": "code",
   "execution_count": null,
   "metadata": {},
   "outputs": [],
   "source": []
  }
 ],
 "metadata": {
  "kernelspec": {
   "display_name": "Python 3",
   "language": "python",
   "name": "python3"
  },
  "language_info": {
   "codemirror_mode": {
    "name": "ipython",
    "version": 3
   },
   "file_extension": ".py",
   "mimetype": "text/x-python",
   "name": "python",
   "nbconvert_exporter": "python",
   "pygments_lexer": "ipython3",
   "version": "3.7.4"
  }
 },
 "nbformat": 4,
 "nbformat_minor": 2
}
