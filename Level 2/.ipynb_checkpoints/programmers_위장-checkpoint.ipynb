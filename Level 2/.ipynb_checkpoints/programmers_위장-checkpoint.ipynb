{
 "cells": [
  {
   "cell_type": "code",
   "execution_count": null,
   "metadata": {},
   "outputs": [],
   "source": [
    "import numpy as np\n",
    "\n",
    "def solution(clothes):\n",
    "    test = np.array(clothes)\n",
    "\n",
    "    type = []\n",
    "\n",
    "    for i,name in enumerate(test[:,1:]):\n",
    "        if i == 0:\n",
    "            type.append(name)\n",
    "        else:\n",
    "            if not name in type:\n",
    "                type.append(name)\n",
    "\n",
    "    type_num = np.zeros(len(type),dtype=np.int32)\n",
    "\n",
    "    for i,name in enumerate(test[:,1:]):\n",
    "        for j,k in enumerate(type):\n",
    "            if k == name:\n",
    "                type_num[j] = type_num[j]+1\n",
    "\n",
    "    if len(type_num) == 1:\n",
    "        answer = type_num[0]\n",
    "\n",
    "    else:\n",
    "        answer = 1\n",
    "        for k in type_num:\n",
    "            answer = answer*(k+1)\n",
    "\n",
    "        answer = answer -1\n",
    "    \n",
    "    return answer"
   ]
  }
 ],
 "metadata": {
  "kernelspec": {
   "display_name": "Python 3",
   "language": "python",
   "name": "python3"
  },
  "language_info": {
   "codemirror_mode": {
    "name": "ipython",
    "version": 3
   },
   "file_extension": ".py",
   "mimetype": "text/x-python",
   "name": "python",
   "nbconvert_exporter": "python",
   "pygments_lexer": "ipython3",
   "version": "3.7.4"
  }
 },
 "nbformat": 4,
 "nbformat_minor": 2
}
