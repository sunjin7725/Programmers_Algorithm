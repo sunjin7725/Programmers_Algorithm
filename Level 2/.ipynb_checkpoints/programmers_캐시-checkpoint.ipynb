{
 "cells": [
  {
   "cell_type": "code",
   "execution_count": null,
   "metadata": {},
   "outputs": [],
   "source": [
    "def solution(cacheSize, cities):\n",
    "    result = 0\n",
    "    cache = []\n",
    "\n",
    "    if cacheSize == 0:\n",
    "        return 5*len(cities)\n",
    "\n",
    "    for city in cities:\n",
    "        city = city.lower()\n",
    "        if len(cache) < cacheSize and city in cache:\n",
    "            cache.pop(cache.index(city))\n",
    "            result += 1\n",
    "        elif len(cache) < cacheSize:\n",
    "            result += 5\n",
    "        elif city in cache:\n",
    "            cache.pop(cache.index(city))\n",
    "            result +=1\n",
    "        else:\n",
    "            del cache[0]\n",
    "            result +=5\n",
    "        cache.append(city)  \n",
    "        \n",
    "    return result"
   ]
  }
 ],
 "metadata": {
  "kernelspec": {
   "display_name": "Python 3",
   "language": "python",
   "name": "python3"
  },
  "language_info": {
   "codemirror_mode": {
    "name": "ipython",
    "version": 3
   },
   "file_extension": ".py",
   "mimetype": "text/x-python",
   "name": "python",
   "nbconvert_exporter": "python",
   "pygments_lexer": "ipython3",
   "version": "3.7.4"
  }
 },
 "nbformat": 4,
 "nbformat_minor": 2
}
