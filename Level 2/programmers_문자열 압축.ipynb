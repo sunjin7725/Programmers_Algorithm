{
 "cells": [
  {
   "cell_type": "code",
   "execution_count": null,
   "metadata": {},
   "outputs": [],
   "source": [
    "def solution(s):\n",
    "    count_dict = {}\n",
    "    for index in range(len(s)):\n",
    "        _dict = list_to_dict(s,index+1)\n",
    "        _str = \"\"\n",
    "        result = \"\"\n",
    "        count = 0\n",
    "        \n",
    "        for i in range(len(_dict)):\n",
    "            if _str != _dict[i]:\n",
    "                if count is not 0:\n",
    "                    result += str(count+1)\n",
    "                    result += _dict[i-1]\n",
    "                    count = 0\n",
    "                else:\n",
    "                    if i != 0:\n",
    "                        result += _dict[i-1]\n",
    "                if i == len(_dict)-1:\n",
    "                    result += _dict[i]\n",
    "                _str = _dict[i]\n",
    "            else: \n",
    "                count += 1\n",
    "                if i == len(_dict)-1:\n",
    "                    result += str(count+1)\n",
    "                    result += _dict[i-1]\n",
    "        count_dict[index] = len(result)\n",
    "        \n",
    "    answer = min(count_dict.values())\n",
    "    return answer\n",
    "\n",
    "def list_to_dict(s,k):\n",
    "    _dict = {}\n",
    "    count = 0\n",
    "    for i in range(0,len(s),k):\n",
    "        _dict[count] = s[i+0:i+k]\n",
    "        count += 1\n",
    "    \n",
    "    return _dict"
   ]
  }
 ],
 "metadata": {
  "kernelspec": {
   "display_name": "Python 3",
   "language": "python",
   "name": "python3"
  },
  "language_info": {
   "codemirror_mode": {
    "name": "ipython",
    "version": 3
   },
   "file_extension": ".py",
   "mimetype": "text/x-python",
   "name": "python",
   "nbconvert_exporter": "python",
   "pygments_lexer": "ipython3",
   "version": "3.7.4"
  }
 },
 "nbformat": 4,
 "nbformat_minor": 2
}
