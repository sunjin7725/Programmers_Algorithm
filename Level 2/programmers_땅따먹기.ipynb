{
 "cells": [
  {
   "cell_type": "code",
   "execution_count": 31,
   "metadata": {},
   "outputs": [],
   "source": [
    "land = [[1,2,3,4],[8,8,3,2],[6,7,4,5],[1,3,5,7]]"
   ]
  },
  {
   "cell_type": "code",
   "execution_count": 32,
   "metadata": {},
   "outputs": [
    {
     "name": "stdout",
     "output_type": "stream",
     "text": [
      "[[1, 2, 3, 4], [12, 12, 7, 5], [6, 7, 4, 5], [1, 3, 5, 7]]\n",
      "[[1, 2, 3, 4], [12, 12, 7, 5], [18, 19, 16, 17], [1, 3, 5, 7]]\n",
      "[[1, 2, 3, 4], [12, 12, 7, 5], [18, 19, 16, 17], [20, 21, 24, 26]]\n"
     ]
    }
   ],
   "source": [
    "height = len(land)\n",
    "for i in range(1,height):\n",
    "    land[i][0] += max(land[i-1][1],max(land[i-1][2],land[i-1][3]))\n",
    "    land[i][1] += max(land[i-1][0],max(land[i-1][2],land[i-1][3])) \n",
    "    land[i][2] += max(land[i-1][0],max(land[i-1][1],land[i-1][3])) \n",
    "    land[i][3] += max(land[i-1][0],max(land[i-1][1],land[i-1][2])) \n",
    "    print(land)"
   ]
  },
  {
   "cell_type": "code",
   "execution_count": 34,
   "metadata": {},
   "outputs": [
    {
     "data": {
      "text/plain": [
       "[[1, 2, 3, 4], [12, 12, 7, 5], [18, 19, 16, 17], [20, 21, 24, 26]]"
      ]
     },
     "execution_count": 34,
     "metadata": {},
     "output_type": "execute_result"
    }
   ],
   "source": [
    "land"
   ]
  },
  {
   "cell_type": "code",
   "execution_count": null,
   "metadata": {},
   "outputs": [],
   "source": []
  }
 ],
 "metadata": {
  "kernelspec": {
   "display_name": "Python 3",
   "language": "python",
   "name": "python3"
  },
  "language_info": {
   "codemirror_mode": {
    "name": "ipython",
    "version": 3
   },
   "file_extension": ".py",
   "mimetype": "text/x-python",
   "name": "python",
   "nbconvert_exporter": "python",
   "pygments_lexer": "ipython3",
   "version": "3.7.4"
  }
 },
 "nbformat": 4,
 "nbformat_minor": 2
}
