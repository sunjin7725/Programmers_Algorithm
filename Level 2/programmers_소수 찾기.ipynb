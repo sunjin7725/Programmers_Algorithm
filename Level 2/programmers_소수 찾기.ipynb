{
 "cells": [
  {
   "cell_type": "code",
   "execution_count": null,
   "metadata": {},
   "outputs": [],
   "source": [
    "from itertools import combinations,permutations\n",
    "def solution(numbers):\n",
    "    count = 0\n",
    "    test_number = []\n",
    "\n",
    "    for i in range(len(numbers)):\n",
    "        case = list(set(map(''.join,permutations(numbers,i+1))))\n",
    "        for j, number in enumerate(case):\n",
    "            test_number.append(int(number))\n",
    "\n",
    "    test_number = list(set(test_number))\n",
    "    for i, number in enumerate(test_number):\n",
    "        if isPrime(number)== True:\n",
    "            count +=1\n",
    "                \n",
    "    return count\n",
    "\n",
    "\n",
    "\n",
    "def isPrime(x):\n",
    "    if x<2:\n",
    "        return False\n",
    "    else:\n",
    "        for i in range(2,x):\n",
    "            if x % i == 0:\n",
    "                return False\n",
    "            \n",
    "    return True"
   ]
  }
 ],
 "metadata": {
  "kernelspec": {
   "display_name": "Python 3",
   "language": "python",
   "name": "python3"
  },
  "language_info": {
   "codemirror_mode": {
    "name": "ipython",
    "version": 3
   },
   "file_extension": ".py",
   "mimetype": "text/x-python",
   "name": "python",
   "nbconvert_exporter": "python",
   "pygments_lexer": "ipython3",
   "version": "3.7.4"
  }
 },
 "nbformat": 4,
 "nbformat_minor": 2
}
