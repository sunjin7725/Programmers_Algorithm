{
 "cells": [
  {
   "cell_type": "code",
   "execution_count": null,
   "metadata": {},
   "outputs": [],
   "source": [
    "def solution(numbers):\n",
    "    numbers = [str(i) for i in numbers]\n",
    "\n",
    "    test = list(map(lambda x: x*4, numbers))\n",
    "\n",
    "    dict_number = dict()\n",
    "    for i,number in enumerate(test):\n",
    "        dict_number.update({i:number})\n",
    "\n",
    "    dict_number = dict(sorted(dict_number.items(),key=(lambda x:x[1]) ,reverse=True))\n",
    "\n",
    "    sort_num = []\n",
    "\n",
    "    for key in dict_number.keys():\n",
    "        sort_num.append(numbers[key])\n",
    "\n",
    "    answer = ''.join(sort_num)\n",
    "    \n",
    "    if int(answer) == 0:\n",
    "        answer='0'\n",
    "\n",
    "    return answer"
   ]
  }
 ],
 "metadata": {
  "kernelspec": {
   "display_name": "Python 3",
   "language": "python",
   "name": "python3"
  },
  "language_info": {
   "codemirror_mode": {
    "name": "ipython",
    "version": 3
   },
   "file_extension": ".py",
   "mimetype": "text/x-python",
   "name": "python",
   "nbconvert_exporter": "python",
   "pygments_lexer": "ipython3",
   "version": "3.7.4"
  }
 },
 "nbformat": 4,
 "nbformat_minor": 2
}
