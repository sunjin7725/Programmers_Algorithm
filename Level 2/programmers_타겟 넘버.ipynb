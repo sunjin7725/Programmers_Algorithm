{
 "cells": [
  {
   "cell_type": "code",
   "execution_count": null,
   "metadata": {},
   "outputs": [],
   "source": [
    "def dfs(numbers,target,idx,count):    \n",
    "    if idx < len(numbers):\n",
    "        numbers[idx] *= 1\n",
    "        dfs(numbers,target, idx + 1, count)\n",
    "        \n",
    "        numbers[idx] *= -1\n",
    "        dfs(numbers,target, idx + 1, count)\n",
    "        \n",
    "    else:\n",
    "        if sum(numbers) == target:\n",
    "            count.append(1)\n",
    "\n",
    "def solution(numbers, target):\n",
    "    count = []\n",
    "\n",
    "    dfs(numbers, target,0 , count)\n",
    "    \n",
    "    answer = sum(count)\n",
    "    \n",
    "    return answer"
   ]
  }
 ],
 "metadata": {
  "kernelspec": {
   "display_name": "Python 3",
   "language": "python",
   "name": "python3"
  },
  "language_info": {
   "codemirror_mode": {
    "name": "ipython",
    "version": 3
   },
   "file_extension": ".py",
   "mimetype": "text/x-python",
   "name": "python",
   "nbconvert_exporter": "python",
   "pygments_lexer": "ipython3",
   "version": "3.7.4"
  }
 },
 "nbformat": 4,
 "nbformat_minor": 2
}
