{
 "cells": [
  {
   "cell_type": "code",
   "execution_count": 116,
   "metadata": {},
   "outputs": [],
   "source": [
    "class Node:\n",
    "    def __init__(self, data):\n",
    "        self.data = data\n",
    "        self.next = None\n",
    "        \n",
    "class SingleLinkedList:\n",
    "    def __init__(self):\n",
    "        self.head = None\n",
    "        \n",
    "    def append(self, data):\n",
    "        if self.head == None:\n",
    "            self.head = Node(data)\n",
    "            \n",
    "        else:\n",
    "            curr_node = self.head\n",
    "            while curr_node.next != None:\n",
    "                curr_node = curr_node.next\n",
    "            curr_node.next = Node(data)\n",
    "            \n",
    "    def printList(self):\n",
    "        curr_node = self.head\n",
    "        while curr_node:\n",
    "            print(curr_node.data)\n",
    "            curr_node = curr_node.next\n",
    "            \n",
    "    def print(self):\n",
    "        curr_node = self.head\n",
    "        string = \"\"\n",
    "        while curr_node:\n",
    "            string += str(curr_node.data)\n",
    "            if curr_node.next:\n",
    "                string += \"->\"\n",
    "            curr_node = curr_node.next\n",
    "        print(string)\n",
    "    \n",
    "    def insertBeforeData(self, before, input_num):\n",
    "        curr_node = self.head\n",
    "        new_node = Node(input_num)\n",
    "        next_node = None\n",
    "        \n",
    "        while curr_node.next.data != before:\n",
    "            curr_node = curr_node.next\n",
    "            \n",
    "        next_node = curr_node.next\n",
    "        curr_node.next = new_node\n",
    "        curr_node = curr_node.next\n",
    "        curr_node.next = next_node\n",
    "    \n",
    "    def deleteData(self, delete_num):\n",
    "        curr_node = self.head\n",
    "        prev_node = None\n",
    "        next_node = None\n",
    "        \n",
    "        while curr_node.data != delete_num:\n",
    "            prev_node = curr_node\n",
    "            curr_node = curr_node.next\n",
    "            \n",
    "        if curr_node:\n",
    "            next_node = curr_node.next\n",
    "            prev_node.next = next_node\n",
    "        else:\n",
    "            print(\"None\")"
   ]
  },
  {
   "cell_type": "code",
   "execution_count": 117,
   "metadata": {},
   "outputs": [],
   "source": [
    "s = SingleLinkedList()\n",
    "\n",
    "s.append(1)"
   ]
  },
  {
   "cell_type": "code",
   "execution_count": 118,
   "metadata": {},
   "outputs": [
    {
     "name": "stdout",
     "output_type": "stream",
     "text": [
      "1\n"
     ]
    }
   ],
   "source": [
    "s.printList()"
   ]
  },
  {
   "cell_type": "code",
   "execution_count": 119,
   "metadata": {},
   "outputs": [],
   "source": [
    "s.append(2)"
   ]
  },
  {
   "cell_type": "code",
   "execution_count": 120,
   "metadata": {},
   "outputs": [],
   "source": [
    "s.append(3)"
   ]
  },
  {
   "cell_type": "code",
   "execution_count": 121,
   "metadata": {},
   "outputs": [
    {
     "name": "stdout",
     "output_type": "stream",
     "text": [
      "1\n",
      "2\n",
      "3\n"
     ]
    }
   ],
   "source": [
    "s.printList()"
   ]
  },
  {
   "cell_type": "code",
   "execution_count": 122,
   "metadata": {},
   "outputs": [],
   "source": [
    "s.insertBeforeData(2,4)"
   ]
  },
  {
   "cell_type": "code",
   "execution_count": 123,
   "metadata": {},
   "outputs": [
    {
     "name": "stdout",
     "output_type": "stream",
     "text": [
      "1->4->2->3\n"
     ]
    }
   ],
   "source": [
    "s.print()"
   ]
  },
  {
   "cell_type": "code",
   "execution_count": 124,
   "metadata": {},
   "outputs": [],
   "source": [
    "s.deleteData(3)"
   ]
  },
  {
   "cell_type": "code",
   "execution_count": 125,
   "metadata": {},
   "outputs": [
    {
     "name": "stdout",
     "output_type": "stream",
     "text": [
      "1->4->2\n"
     ]
    }
   ],
   "source": [
    "s.print()"
   ]
  },
  {
   "cell_type": "code",
   "execution_count": 126,
   "metadata": {},
   "outputs": [],
   "source": [
    "s.append(3)"
   ]
  },
  {
   "cell_type": "code",
   "execution_count": 127,
   "metadata": {},
   "outputs": [
    {
     "name": "stdout",
     "output_type": "stream",
     "text": [
      "1->4->2->3\n"
     ]
    }
   ],
   "source": [
    "s.print()"
   ]
  },
  {
   "cell_type": "code",
   "execution_count": 128,
   "metadata": {},
   "outputs": [
    {
     "ename": "NameError",
     "evalue": "name 'profile' is not defined",
     "output_type": "error",
     "traceback": [
      "\u001b[1;31m---------------------------------------------------------------------------\u001b[0m",
      "\u001b[1;31mNameError\u001b[0m                                 Traceback (most recent call last)",
      "\u001b[1;32m<ipython-input-128-bc5b56ed5def>\u001b[0m in \u001b[0;36m<module>\u001b[1;34m\u001b[0m\n\u001b[1;32m----> 1\u001b[1;33m \u001b[1;33m@\u001b[0m\u001b[0mprofile\u001b[0m\u001b[1;33m\u001b[0m\u001b[1;33m\u001b[0m\u001b[0m\n\u001b[0m\u001b[0;32m      2\u001b[0m \u001b[1;32mdef\u001b[0m \u001b[0mFibonacci_Recursion\u001b[0m\u001b[1;33m(\u001b[0m\u001b[0mval\u001b[0m\u001b[1;33m)\u001b[0m\u001b[1;33m:\u001b[0m\u001b[1;33m\u001b[0m\u001b[1;33m\u001b[0m\u001b[0m\n\u001b[0;32m      3\u001b[0m     \u001b[1;32mif\u001b[0m \u001b[1;33m(\u001b[0m\u001b[0mval\u001b[0m \u001b[1;33m==\u001b[0m \u001b[1;36m1\u001b[0m\u001b[1;33m)\u001b[0m\u001b[1;33m:\u001b[0m\u001b[1;33m\u001b[0m\u001b[1;33m\u001b[0m\u001b[0m\n\u001b[0;32m      4\u001b[0m         \u001b[1;32mreturn\u001b[0m \u001b[1;36m0\u001b[0m\u001b[1;33m\u001b[0m\u001b[1;33m\u001b[0m\u001b[0m\n\u001b[0;32m      5\u001b[0m     \u001b[1;32melif\u001b[0m \u001b[1;33m(\u001b[0m\u001b[0mval\u001b[0m \u001b[1;33m==\u001b[0m \u001b[1;36m2\u001b[0m\u001b[1;33m)\u001b[0m\u001b[1;33m:\u001b[0m\u001b[1;33m\u001b[0m\u001b[1;33m\u001b[0m\u001b[0m\n",
      "\u001b[1;31mNameError\u001b[0m: name 'profile' is not defined"
     ]
    }
   ],
   "source": [
    "@profile\n",
    "def Fibonacci_Recursion(val):\n",
    "    if (val == 1):\n",
    "        return 0\n",
    "    elif (val == 2):\n",
    "        return 1\n",
    "    else:\n",
    "        return Fibonacci_Recursion(val - 1) + Fibonacci_Recursion(val - 2)\n",
    "@profile\n",
    "def Fibonacci_Repeat(val):\n",
    "    val_1 = 0\n",
    "    val_2 = 1\n",
    "    val_3 = 0\n",
    "    temp  = 0\n",
    " \n",
    "    if (val == 0):\n",
    "        return 0\n",
    "    elif (val == 1):\n",
    "        return 1\n",
    "    else:\n",
    "        for i in range (0, val):\n",
    "            temp = val_2\n",
    "            val_2 = val_1 + val_2\n",
    "            val_1 = temp\n",
    " \n",
    "        return val_2\n",
    " \n",
    "@profile\n",
    "def TEST():\n",
    "    recursion = 0\n",
    "    repeat = 0\n",
    " \n",
    "    recursion = Fibonacci_Recursion(20)\n",
    "    repeat = Fibonacci_Repeat(20)\n",
    " \n",
    "    print(recursion, repeat)\n",
    " \n",
    "if __name__ == \"__main__\":\n",
    "    TEST()"
   ]
  },
  {
   "cell_type": "code",
   "execution_count": null,
   "metadata": {},
   "outputs": [],
   "source": [
    "for i in range(10000):\n",
    "    "
   ]
  }
 ],
 "metadata": {
  "kernelspec": {
   "display_name": "Python 3",
   "language": "python",
   "name": "python3"
  },
  "language_info": {
   "codemirror_mode": {
    "name": "ipython",
    "version": 3
   },
   "file_extension": ".py",
   "mimetype": "text/x-python",
   "name": "python",
   "nbconvert_exporter": "python",
   "pygments_lexer": "ipython3",
   "version": "3.7.4"
  }
 },
 "nbformat": 4,
 "nbformat_minor": 2
}
