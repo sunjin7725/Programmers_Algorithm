{
 "cells": [
  {
   "cell_type": "code",
   "execution_count": 1,
   "metadata": {},
   "outputs": [],
   "source": [
    "answers = [0,0,0]\n",
    "#answers = [1,3,2,4,2]\n",
    "\n",
    "_1 = [1, 2, 3, 4, 5]#5\n",
    "_2 = [2, 1, 2, 3, 2, 4, 2, 5] #8\n",
    "_3 = [3, 3, 1, 1, 2, 2, 4, 4, 5, 5] #10\n",
    "\n"
   ]
  },
  {
   "cell_type": "code",
   "execution_count": 2,
   "metadata": {},
   "outputs": [
    {
     "data": {
      "text/plain": [
       "[1, 2, 3]"
      ]
     },
     "execution_count": 2,
     "metadata": {},
     "output_type": "execute_result"
    }
   ],
   "source": [
    "import math\n",
    "\n",
    "diction = dict()\n",
    "diction[1] = 0\n",
    "diction[2] = 0\n",
    "diction[3] = 0\n",
    "\n",
    "for i in range(len(answers)):\n",
    "    if len(_1) < len(answers):\n",
    "        _1 *= math.ceil(len(answers)/5)\n",
    "        if answers[i] == _1[i]:\n",
    "            diction[1] += 1\n",
    "    else:\n",
    "        if answers[i] == _1[i]:\n",
    "            diction[1] += 1\n",
    "    if len(_2) < len(answers):\n",
    "        _2 *= math.ceil(len(answers)/8)\n",
    "        if answers[i] == _2[i]:\n",
    "            diction[2] += 1\n",
    "    else:\n",
    "        if answers[i] == _2[i]:\n",
    "            diction[2] += 1\n",
    "    if len(_3) < len(answers):\n",
    "        _3 *= math.ceil(len(answers)/10)\n",
    "        if answers[i] == _3[i]:\n",
    "            diction[3] += 1\n",
    "    else:\n",
    "        if answers[i] == _3[i]:\n",
    "            diction[3] += 1\n",
    "            \n",
    "diction_max = max(diction.keys(), key=(lambda k: diction[k]))\n",
    "answer = []\n",
    "\n",
    "for key, value in diction.items():\n",
    "    if value == diction[diction_max]:\n",
    "        answer.append(key)\n",
    "        \n",
    "answer"
   ]
  },
  {
   "cell_type": "code",
   "execution_count": 4,
   "metadata": {},
   "outputs": [
    {
     "ename": "SyntaxError",
     "evalue": "can't assign to literal (<ipython-input-4-1bb52fd91700>, line 1)",
     "output_type": "error",
     "traceback": [
      "\u001b[1;36m  File \u001b[1;32m\"<ipython-input-4-1bb52fd91700>\"\u001b[1;36m, line \u001b[1;32m1\u001b[0m\n\u001b[1;33m    3 |= set()\u001b[0m\n\u001b[1;37m              ^\u001b[0m\n\u001b[1;31mSyntaxError\u001b[0m\u001b[1;31m:\u001b[0m can't assign to literal\n"
     ]
    }
   ],
   "source": [
    "3 |= set()"
   ]
  },
  {
   "cell_type": "code",
   "execution_count": null,
   "metadata": {},
   "outputs": [],
   "source": []
  }
 ],
 "metadata": {
  "kernelspec": {
   "display_name": "Python 3",
   "language": "python",
   "name": "python3"
  },
  "language_info": {
   "codemirror_mode": {
    "name": "ipython",
    "version": 3
   },
   "file_extension": ".py",
   "mimetype": "text/x-python",
   "name": "python",
   "nbconvert_exporter": "python",
   "pygments_lexer": "ipython3",
   "version": "3.6.0"
  }
 },
 "nbformat": 4,
 "nbformat_minor": 2
}
