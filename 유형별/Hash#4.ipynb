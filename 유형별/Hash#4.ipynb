{
 "cells": [
  {
   "cell_type": "code",
   "execution_count": 1,
   "metadata": {},
   "outputs": [],
   "source": [
    "genres = [\"classic\", \"pop\", \"classic\", \"classic\", \"pop\"]\n",
    "plays = [500, 600, 150, 800, 2500]\n",
    "genres3 = [\"classic\", \"pop\", \"classic\", \"classic\", \"pop\", \"pop\", \"pop\"]\n",
    "plays3 = [500, 700, 150, 800, 2500, 700, 700]\n",
    "genres4 = [\"classic\", \"classic\", \"pop\", \"pop\", \"pop\", \"pop\", \"classic\", \"pop\", \"rock\", \"rock\", \"kpop\"]\n",
    "plays4 = [1000, 1000, 200, 100, 700, 500, 200, 3000, 800, 2000, 7000]\n",
    "genres5 = [\"classic\", \"classic\", \"pop\", \"pop\", \"pop\", \"pop\", \"classic\", \"pop\", \"rock\", \"rock\", \"kpop\",\"zazz\"]\n",
    "plays5 = [1000, 1000, 200, 100, 700, 500, 200, 3000, 800, 2000, 7000,300]"
   ]
  },
  {
   "cell_type": "code",
   "execution_count": 2,
   "metadata": {},
   "outputs": [
    {
     "name": "stdout",
     "output_type": "stream",
     "text": [
      "{0: 'classic', 1: 'classic', 2: 'pop', 3: 'pop', 4: 'pop', 5: 'pop', 6: 'classic', 7: 'pop', 8: 'rock', 9: 'rock', 10: 'kpop', 11: 'zazz'}\n",
      "{0: 1000, 1: 1000, 2: 200, 3: 100, 4: 700, 5: 500, 6: 200, 7: 3000, 8: 800, 9: 2000, 10: 7000, 11: 300}\n"
     ]
    }
   ],
   "source": [
    "test_genres = genres5\n",
    "test_plays = plays5\n",
    "\n",
    "dictionary_genres = dict(zip(range(len(test_genres)), test_genres))\n",
    "dictionary_plays = dict(zip(range(len(test_plays)), test_plays))\n",
    "\n",
    "print(dictionary_genres)\n",
    "print(dictionary_plays)"
   ]
  },
  {
   "cell_type": "code",
   "execution_count": 3,
   "metadata": {
    "scrolled": true
   },
   "outputs": [
    {
     "data": {
      "text/plain": [
       "5"
      ]
     },
     "execution_count": 3,
     "metadata": {},
     "output_type": "execute_result"
    }
   ],
   "source": [
    "type_num = len(list(set(test_genres)))\n",
    "\n",
    "type_num"
   ]
  },
  {
   "cell_type": "code",
   "execution_count": 4,
   "metadata": {},
   "outputs": [
    {
     "data": {
      "text/plain": [
       "[0, 1, 2, 3, 4, 5, 6, 7, 8, 9, 10, 11]"
      ]
     },
     "execution_count": 4,
     "metadata": {},
     "output_type": "execute_result"
    }
   ],
   "source": [
    "list(dictionary_genres)"
   ]
  },
  {
   "cell_type": "code",
   "execution_count": 5,
   "metadata": {},
   "outputs": [
    {
     "name": "stdout",
     "output_type": "stream",
     "text": [
      "10\n",
      "kpop\n"
     ]
    }
   ],
   "source": [
    "max_key = max(dictionary_plays.keys(), key=(lambda k: dictionary_plays[k]))\n",
    "max_genre = test_genres[max_key]\n",
    "\n",
    "print(max_key)\n",
    "print(max_genre)"
   ]
  },
  {
   "cell_type": "code",
   "execution_count": 6,
   "metadata": {},
   "outputs": [
    {
     "name": "stdout",
     "output_type": "stream",
     "text": [
      "{0: 1000, 1: 1000, 2: 200, 3: 100, 4: 700, 5: 500, 6: 200, 7: 3000, 8: 800, 9: 2000, 10: 7000, 11: 300}\n",
      "kpop\n",
      "{10: 7000}\n",
      "\n",
      "{0: 1000, 1: 1000, 2: 200, 3: 100, 4: 700, 5: 500, 6: 200, 7: 3000, 8: 800, 9: 2000, 11: 300}\n",
      "pop\n",
      "{7: 3000, 4: 700, 5: 500, 2: 200, 3: 100}\n",
      "\n",
      "{0: 1000, 1: 1000, 6: 200, 8: 800, 9: 2000, 11: 300}\n",
      "rock\n",
      "{9: 2000, 8: 800}\n",
      "\n",
      "{0: 1000, 1: 1000, 6: 200, 11: 300}\n",
      "classic\n",
      "{0: 1000, 1: 1000, 6: 200}\n",
      "\n",
      "{11: 300}\n",
      "zazz\n",
      "{11: 300}\n",
      "\n"
     ]
    },
    {
     "data": {
      "text/plain": [
       "[10, 7, 4, 9, 8, 0, 1, 11]"
      ]
     },
     "execution_count": 6,
     "metadata": {},
     "output_type": "execute_result"
    }
   ],
   "source": [
    "answer = []\n",
    "\n",
    "for i in range(type_num):\n",
    "    max_key = max(dictionary_plays.keys(), key=(lambda k: dictionary_plays[k]))\n",
    "    max_genre = test_genres[max_key]\n",
    "    \n",
    "    print(dictionary_plays)\n",
    "    print(max_genre)\n",
    "    \n",
    "    diction_genres = dict()\n",
    "    diction_plays = dict()\n",
    "\n",
    "    for i,type_name in enumerate(test_genres):\n",
    "        if type_name == max_genre:\n",
    "            diction_plays.update({i:test_plays[i]})\n",
    "    \n",
    "    diction_plays = dict(sorted(diction_plays.items(), key=(lambda x: x[1]),reverse=True))\n",
    "    \n",
    "    print(diction_plays)\n",
    "    \n",
    "    count = 0\n",
    "    for key in diction_plays.keys():\n",
    "        answer.append(key)\n",
    "        count = count+1\n",
    "        if count == 2:\n",
    "            break\n",
    "            \n",
    "    for i in list(dictionary_genres):\n",
    "        if max_genre == dictionary_genres[i]:\n",
    "            dictionary_plays.pop(i)\n",
    "            dictionary_genres.pop(i)\n",
    "    print(\"\")\n",
    "    \n",
    "answer"
   ]
  },
  {
   "cell_type": "code",
   "execution_count": 7,
   "metadata": {},
   "outputs": [
    {
     "data": {
      "text/plain": [
       "({}, {})"
      ]
     },
     "execution_count": 7,
     "metadata": {},
     "output_type": "execute_result"
    }
   ],
   "source": [
    "dictionary_genres, dictionary_plays"
   ]
  },
  {
   "cell_type": "code",
   "execution_count": 10,
   "metadata": {},
   "outputs": [
    {
     "data": {
      "text/plain": [
       "3"
      ]
     },
     "execution_count": 10,
     "metadata": {},
     "output_type": "execute_result"
    }
   ],
   "source": [
    "list(max(dictionary_plays.items()))[0]"
   ]
  },
  {
   "cell_type": "code",
   "execution_count": 11,
   "metadata": {},
   "outputs": [
    {
     "data": {
      "text/plain": [
       "({}, {0: 500, 2: 150, 3: 800})"
      ]
     },
     "execution_count": 11,
     "metadata": {},
     "output_type": "execute_result"
    }
   ],
   "source": [
    "diction_genres = dict()\n",
    "diction_plays = dict()\n",
    "\n",
    "for i,type_name in enumerate(test_genres):\n",
    "    if type_name == test_genres[list(max(dictionary_plays.items()))[0]]:\n",
    "        diction_plays.update({i:test_plays[i]})\n",
    "\n",
    "diction_genres, diction_plays"
   ]
  },
  {
   "cell_type": "code",
   "execution_count": 12,
   "metadata": {},
   "outputs": [
    {
     "data": {
      "text/plain": [
       "({3: 800, 0: 500, 2: 150}, 'classic')"
      ]
     },
     "execution_count": 12,
     "metadata": {},
     "output_type": "execute_result"
    }
   ],
   "source": [
    "diction_plays = dict(sorted(diction_plays.items(), key=(lambda x: x[1]),reverse=True))\n",
    "\n",
    "diction_plays, genres[list(diction_plays.keys())[0]]"
   ]
  },
  {
   "cell_type": "code",
   "execution_count": 13,
   "metadata": {},
   "outputs": [],
   "source": [
    "count = 0\n",
    "for key in diction_plays.keys():\n",
    "    genre_list.append(key)\n",
    "    del dictionary_plays[key]\n",
    "    del dictionary_genres[key]\n",
    "    count = count+1\n",
    "    if count == 2:\n",
    "        break"
   ]
  },
  {
   "cell_type": "code",
   "execution_count": 14,
   "metadata": {},
   "outputs": [
    {
     "data": {
      "text/plain": [
       "[4, 1, 3, 0]"
      ]
     },
     "execution_count": 14,
     "metadata": {},
     "output_type": "execute_result"
    }
   ],
   "source": [
    "genre_list"
   ]
  },
  {
   "cell_type": "code",
   "execution_count": null,
   "metadata": {},
   "outputs": [],
   "source": []
  },
  {
   "cell_type": "code",
   "execution_count": null,
   "metadata": {},
   "outputs": [],
   "source": [
    "def solution(genres, plays):\n",
    "    dictionary_genres = dict(zip(range(len(genres)), genres))\n",
    "    dictionary_plays = dict(zip(range(len(plays)), plays))\n",
    "    \n",
    "    type_num = len(list(set(genres)))\n",
    "    \n",
    "    answer = []\n",
    "\n",
    "    for i in range(type_num):\n",
    "        max_key = max(dictionary_plays.keys(), key=(lambda k: dictionary_plays[k]))\n",
    "        max_genre = genres[max_key]\n",
    "\n",
    "        diction_genres = dict()\n",
    "        diction_plays = dict()\n",
    "\n",
    "        for i,type_name in enumerate(genres):\n",
    "            if type_name == max_genre:\n",
    "                diction_plays.update({i:plays[i]})\n",
    "\n",
    "        diction_plays = dict(sorted(diction_plays.items(), key=(lambda x: x[1]),reverse=True))\n",
    "\n",
    "        count = 0\n",
    "        for key in diction_plays.keys():\n",
    "            answer.append(key)\n",
    "            count = count+1\n",
    "            if count == 2:\n",
    "                break\n",
    "\n",
    "        for i in list(dictionary_genres):\n",
    "            if max_genre == dictionary_genres[i]:\n",
    "                dictionary_plays.pop(i)\n",
    "                dictionary_genres.pop(i)\n",
    "\n",
    "    return answer"
   ]
  }
 ],
 "metadata": {
  "kernelspec": {
   "display_name": "Python 3",
   "language": "python",
   "name": "python3"
  },
  "language_info": {
   "codemirror_mode": {
    "name": "ipython",
    "version": 3
   },
   "file_extension": ".py",
   "mimetype": "text/x-python",
   "name": "python",
   "nbconvert_exporter": "python",
   "pygments_lexer": "ipython3",
   "version": "3.6.0"
  }
 },
 "nbformat": 4,
 "nbformat_minor": 2
}
