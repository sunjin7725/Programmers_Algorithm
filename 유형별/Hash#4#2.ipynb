{
 "cells": [
  {
   "cell_type": "code",
   "execution_count": 1,
   "metadata": {},
   "outputs": [],
   "source": [
    "genres = [\"classic\", \"pop\", \"classic\", \"classic\", \"pop\"]\n",
    "plays = [500, 600, 150, 800, 2500]\n",
    "genres3 = [\"classic\", \"pop\", \"classic\", \"classic\", \"pop\", \"pop\", \"pop\"]\n",
    "plays3 = [500, 700, 150, 800, 2500, 700, 700]\n",
    "genres4 = [\"classic\", \"classic\", \"pop\", \"pop\", \"pop\", \"pop\", \"classic\", \"pop\", \"rock\", \"rock\", \"kpop\"]\n",
    "plays4 = [1000, 1000, 200, 100, 700, 500, 200, 3000, 800, 2000, 7000]\n",
    "genres5 = [\"classic\", \"classic\", \"pop\", \"pop\", \"pop\", \"pop\", \"classic\", \"pop\", \"rock\", \"rock\", \"kpop\",\"zazz\"]\n",
    "plays5 = [1000, 1000, 200, 100, 700, 500, 200, 3000, 800, 2000, 7000,300]"
   ]
  },
  {
   "cell_type": "code",
   "execution_count": 2,
   "metadata": {},
   "outputs": [],
   "source": [
    "test_genres = genres\n",
    "test_plays = plays"
   ]
  },
  {
   "cell_type": "code",
   "execution_count": 3,
   "metadata": {},
   "outputs": [],
   "source": [
    "genres_max = dict()\n",
    "genres_play = dict()"
   ]
  },
  {
   "cell_type": "code",
   "execution_count": 4,
   "metadata": {
    "scrolled": true
   },
   "outputs": [
    {
     "name": "stdout",
     "output_type": "stream",
     "text": [
      "{'classic': {0: 500, 2: 150, 3: 800}, 'pop': {1: 600, 4: 2500}}\n",
      "{'classic': 1450, 'pop': 3100}\n",
      "\n"
     ]
    }
   ],
   "source": [
    "for i in range(len(test_genres)):\n",
    "    if test_genres[i] in genres_play.keys():\n",
    "        genres_play[genres[i]].update({i:plays[i]})\n",
    "        genres_max[genres[i]] += plays[i]\n",
    "    else:\n",
    "        genres_max[genres[i]] = plays[i]\n",
    "        genres_play[genres[i]] = {i:plays[i]}\n",
    "print(genres_play)\n",
    "print(genres_max)\n",
    "print(\"\")"
   ]
  },
  {
   "cell_type": "code",
   "execution_count": 5,
   "metadata": {},
   "outputs": [
    {
     "data": {
      "text/plain": [
       "dict_keys(['classic', 'pop'])"
      ]
     },
     "execution_count": 5,
     "metadata": {},
     "output_type": "execute_result"
    }
   ],
   "source": [
    "len(genres_max.keys())\n",
    "genres_max.keys()"
   ]
  },
  {
   "cell_type": "code",
   "execution_count": 6,
   "metadata": {},
   "outputs": [
    {
     "name": "stdout",
     "output_type": "stream",
     "text": [
      "{'classic': {3: 800, 0: 500, 2: 150}, 'pop': {4: 2500, 1: 600}}\n"
     ]
    }
   ],
   "source": [
    "for i in range(len(genres_max.keys())):\n",
    "    name = list(genres_max.keys())[i]\n",
    "    genres_play[name] = dict(sorted(genres_play[name].items(), key=(lambda x: x[1]),reverse=True))\n",
    "    \n",
    "print(genres_play)    "
   ]
  },
  {
   "cell_type": "code",
   "execution_count": 7,
   "metadata": {},
   "outputs": [
    {
     "name": "stdout",
     "output_type": "stream",
     "text": [
      "{'pop': 3100, 'classic': 1450}\n"
     ]
    }
   ],
   "source": [
    "genres_max = dict(sorted(genres_max.items(), key=(lambda x: x[1]),reverse=True))\n",
    "\n",
    "print(genres_max)   "
   ]
  },
  {
   "cell_type": "code",
   "execution_count": 8,
   "metadata": {},
   "outputs": [
    {
     "data": {
      "text/plain": [
       "[4, 1, 3, 0]"
      ]
     },
     "execution_count": 8,
     "metadata": {},
     "output_type": "execute_result"
    }
   ],
   "source": [
    "answer = []\n",
    "\n",
    "for key in genres_max:\n",
    "    count = 0\n",
    "    for num in genres_play[key]:\n",
    "        if count == 2:\n",
    "            break\n",
    "        answer.append(num)\n",
    "        count += 1\n",
    "        \n",
    "answer"
   ]
  },
  {
   "cell_type": "code",
   "execution_count": null,
   "metadata": {},
   "outputs": [],
   "source": [
    "def solution(genres, plays):\n",
    "    test_genres = genres\n",
    "    test_plays = plays\n",
    "    \n",
    "    genres_max = dict()\n",
    "    genres_play = dict()\n",
    "    \n",
    "    for i in range(len(test_genres)):\n",
    "        if test_genres[i] in genres_play.keys():\n",
    "            genres_play[genres[i]].update({i:plays[i]})\n",
    "            if genres_max[genres[i]] < plays[i]:\n",
    "                genres_max[genres[i]] = plays[i]\n",
    "        else:\n",
    "            genres_max[genres[i]] = plays[i]\n",
    "            genres_play[genres[i]] = {i:plays[i]}\n",
    "\n",
    "    for i in range(len(genres_max.keys())):\n",
    "        name = list(genres_max.keys())[i]\n",
    "        genres_play[name] = dict(sorted(genres_play[name].items(), key=(lambda x: x[1]),reverse=True))\n",
    "        \n",
    "    genres_max = dict(sorted(genres_max.items(), key=(lambda x: x[1]),reverse=True))\n",
    "    \n",
    "    answer = []\n",
    "\n",
    "    for key in genres_max:\n",
    "        count = 0\n",
    "        for num in genres_play[key]:\n",
    "            if count == 2:\n",
    "                break\n",
    "            answer.append(num)\n",
    "            count += 1\n",
    "        \n",
    "    return answer"
   ]
  }
 ],
 "metadata": {
  "kernelspec": {
   "display_name": "Python 3",
   "language": "python",
   "name": "python3"
  },
  "language_info": {
   "codemirror_mode": {
    "name": "ipython",
    "version": 3
   },
   "file_extension": ".py",
   "mimetype": "text/x-python",
   "name": "python",
   "nbconvert_exporter": "python",
   "pygments_lexer": "ipython3",
   "version": "3.6.0"
  }
 },
 "nbformat": 4,
 "nbformat_minor": 2
}
