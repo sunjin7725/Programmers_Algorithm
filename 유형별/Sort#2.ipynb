{
 "cells": [
  {
   "cell_type": "code",
   "execution_count": 1,
   "metadata": {},
   "outputs": [],
   "source": [
    "numbers = [3, 30, 34, 5, 9]\n",
    "numbers =[0,0,0,0,0,0]"
   ]
  },
  {
   "cell_type": "code",
   "execution_count": 2,
   "metadata": {},
   "outputs": [
    {
     "name": "stdout",
     "output_type": "stream",
     "text": [
      "000000\n"
     ]
    }
   ],
   "source": [
    "numbers = [str(i) for i in numbers]\n",
    "\n",
    "test = list(map(lambda x: x*4, numbers))\n",
    "\n",
    "dict_number = dict()\n",
    "for i,number in enumerate(test):\n",
    "    dict_number.update({i:number})\n",
    "\n",
    "dict_number = dict(sorted(dict_number.items(),key=(lambda x:x[1]) ,reverse=True))\n",
    "\n",
    "sort_num = []\n",
    "\n",
    "for key in dict_number.keys():\n",
    "    sort_num.append(numbers[key])\n",
    "    \n",
    "answer = ''.join(sort_num)\n",
    "\n",
    "print(answer)"
   ]
  },
  {
   "cell_type": "code",
   "execution_count": null,
   "metadata": {},
   "outputs": [],
   "source": [
    "map(numbers.)"
   ]
  }
 ],
 "metadata": {
  "kernelspec": {
   "display_name": "Python 3",
   "language": "python",
   "name": "python3"
  },
  "language_info": {
   "codemirror_mode": {
    "name": "ipython",
    "version": 3
   },
   "file_extension": ".py",
   "mimetype": "text/x-python",
   "name": "python",
   "nbconvert_exporter": "python",
   "pygments_lexer": "ipython3",
   "version": "3.6.0"
  }
 },
 "nbformat": 4,
 "nbformat_minor": 2
}
