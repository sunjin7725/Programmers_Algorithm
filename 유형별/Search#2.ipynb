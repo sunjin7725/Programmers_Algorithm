{
 "cells": [
  {
   "cell_type": "code",
   "execution_count": 4,
   "metadata": {},
   "outputs": [],
   "source": [
    "from itertools import combinations,permutations\n",
    "\n",
    "word1 = \"17\"\n",
    "word2 = \"011\"\n",
    "numbers = \"011\""
   ]
  },
  {
   "cell_type": "code",
   "execution_count": 5,
   "metadata": {},
   "outputs": [],
   "source": [
    "def isPrime(x):\n",
    "    if x<2:\n",
    "        return False\n",
    "    else:\n",
    "        for i in range(2,x):\n",
    "            if x % i == 0:\n",
    "                return False\n",
    "            \n",
    "    return True"
   ]
  },
  {
   "cell_type": "code",
   "execution_count": 6,
   "metadata": {},
   "outputs": [
    {
     "name": "stdout",
     "output_type": "stream",
     "text": [
      "['10', '11', '01']\n"
     ]
    }
   ],
   "source": [
    "case = list(set(map(''.join,permutations(numbers,2))))\n",
    "\n",
    "print(case)"
   ]
  },
  {
   "cell_type": "code",
   "execution_count": 15,
   "metadata": {},
   "outputs": [
    {
     "data": {
      "text/plain": [
       "([0, 1, 101, 10, 11, 110], 2)"
      ]
     },
     "execution_count": 15,
     "metadata": {},
     "output_type": "execute_result"
    }
   ],
   "source": [
    "from itertools import combinations,permutations\n",
    "\n",
    "count = 0\n",
    "test_number = []\n",
    "\n",
    "for i in range(len(numbers)):\n",
    "    case = list(set(map(''.join,permutations(numbers,i+1))))\n",
    "    for j, number in enumerate(case):\n",
    "        test_number.append(int(number))\n",
    "            \n",
    "test_number = list(set(test_number))\n",
    "for i, number in enumerate(test_number):\n",
    "    if isPrime(number)== True:\n",
    "        count +=1\n",
    "        \n",
    "test_number, count"
   ]
  },
  {
   "cell_type": "code",
   "execution_count": null,
   "metadata": {},
   "outputs": [],
   "source": []
  }
 ],
 "metadata": {
  "kernelspec": {
   "display_name": "Python 3",
   "language": "python",
   "name": "python3"
  },
  "language_info": {
   "codemirror_mode": {
    "name": "ipython",
    "version": 3
   },
   "file_extension": ".py",
   "mimetype": "text/x-python",
   "name": "python",
   "nbconvert_exporter": "python",
   "pygments_lexer": "ipython3",
   "version": "3.6.0"
  }
 },
 "nbformat": 4,
 "nbformat_minor": 2
}
