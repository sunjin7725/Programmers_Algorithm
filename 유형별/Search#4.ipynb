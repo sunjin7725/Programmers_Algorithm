{
 "cells": [
  {
   "cell_type": "code",
   "execution_count": 6,
   "metadata": {},
   "outputs": [],
   "source": [
    "brown = 8\n",
    "red = 1\n",
    "\n",
    "def Square(x):\n",
    "    a = []\n",
    "    b = []\n",
    "    \n",
    "    for i in range(2,int(x**0.5)+1):\n",
    "        if x % i == 0:\n",
    "            a.append(i)\n",
    "            b.append(x/ i)\n",
    "            \n",
    "    return a, b"
   ]
  },
  {
   "cell_type": "code",
   "execution_count": 7,
   "metadata": {},
   "outputs": [
    {
     "name": "stdout",
     "output_type": "stream",
     "text": [
      "[3] [3.0]\n",
      "1.0 0 1 True\n"
     ]
    },
    {
     "data": {
      "text/plain": [
       "[3, 3]"
      ]
     },
     "execution_count": 7,
     "metadata": {},
     "output_type": "execute_result"
    }
   ],
   "source": [
    "height, width = Square(brown+red)\n",
    "print(height, width)\n",
    "\n",
    "answer = []\n",
    "for i in range(len(width)):\n",
    "    print((width[i]-2)*(height[i]-2), i ,red, (width[i]-2)*(height[i]-2)==red)\n",
    "    if ((width[i]-2)*(height[i]-2)) == red:\n",
    "        answer.append(int(width[i]))\n",
    "        answer.append(int(height[i]))\n",
    "        \n",
    "answer"
   ]
  },
  {
   "cell_type": "code",
   "execution_count": null,
   "metadata": {},
   "outputs": [],
   "source": []
  }
 ],
 "metadata": {
  "kernelspec": {
   "display_name": "Python 3",
   "language": "python",
   "name": "python3"
  },
  "language_info": {
   "codemirror_mode": {
    "name": "ipython",
    "version": 3
   },
   "file_extension": ".py",
   "mimetype": "text/x-python",
   "name": "python",
   "nbconvert_exporter": "python",
   "pygments_lexer": "ipython3",
   "version": "3.6.0"
  }
 },
 "nbformat": 4,
 "nbformat_minor": 2
}
