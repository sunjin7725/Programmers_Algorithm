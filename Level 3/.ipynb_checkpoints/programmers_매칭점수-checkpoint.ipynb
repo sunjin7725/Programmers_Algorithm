{
 "cells": [
  {
   "cell_type": "code",
   "execution_count": 205,
   "metadata": {},
   "outputs": [],
   "source": [
    "from bs4 import BeautifulSoup\n",
    "import re\n",
    "pages = [\"<html lang=\\\"ko\\\" xml:lang=\\\"ko\\\" xmlns=\\\"http://www.w3.org/1999/xhtml\\\">\\n<head>\\n  <meta charset=\\\"utf-8\\\">\\n  <meta property=\\\"og:url\\\" content=\\\"https://a.com\\\"/>\\n</head>  \\n<body>\\nBlind Lorem Blind ipsum dolor Blind test sit amet, consectetur adipiscing elit. \\n<a href=\\\"https://b.com\\\"> Link to b </a>\\n</body>\\n</html>\", \"<html lang=\\\"ko\\\" xml:lang=\\\"ko\\\" xmlns=\\\"http://www.w3.org/1999/xhtml\\\">\\n<head>\\n  <meta charset=\\\"utf-8\\\">\\n  <meta property=\\\"og:url\\\" content=\\\"https://b.com\\\"/>\\n</head>  \\n<body>\\nSuspendisse potenti. Vivamus venenatis tellus non turpis bibendum, \\n<a href=\\\"https://a.com\\\"> Link to a </a>\\nblind sed congue urna varius. Suspendisse feugiat nisl ligula, quis malesuada felis hendrerit ut.\\n<a href=\\\"https://c.com\\\"> Link to c </a>\\n</body>\\n</html>\", \"<html lang=\\\"ko\\\" xml:lang=\\\"ko\\\" xmlns=\\\"http://www.w3.org/1999/xhtml\\\">\\n<head>\\n  <meta charset=\\\"utf-8\\\">\\n  <meta property=\\\"og:url\\\" content=\\\"https://c.com\\\"/>\\n</head>  \\n<body>\\nUt condimentum urna at felis sodales rutrum. Sed dapibus cursus diam, non interdum nulla tempor nec. Phasellus rutrum enim at orci consectetu blind\\n<a href=\\\"https://a.com\\\"> Link to a </a>\\n</body>\\n</html>\"]"
   ]
  },
  {
   "cell_type": "code",
   "execution_count": 206,
   "metadata": {},
   "outputs": [],
   "source": [
    "pages = [\"<html lang=\\\"ko\\\" xml:lang=\\\"ko\\\" xmlns=\\\"http://www.w3.org/1999/xhtml\\\">\\n<head>\\n  <meta charset=\\\"utf-8\\\">\\n  <meta property=\\\"og:url\\\" content=\\\"https://careers.kakao.com/interview/list\\\"/>\\n</head>  \\n<body>\\n#!MuziMuzi!)jayg07con&&\\n\\n</body>\\n</html>\", \"<html lang=\\\"ko\\\" xml:lang=\\\"ko\\\" xmlns=\\\"http://www.w3.org/1999/xhtml\\\">\\n<head>\\n  <meta charset=\\\"utf-8\\\">\\n  <meta property=\\\"og:url\\\" content=\\\"https://www.kakaocorp.com\\\"/>\\n</head>  \\n<body>\\ncon%\\tmuzI92apeach&2\\n\\n\\t^\\n</body>\\n</html>\"]"
   ]
  },
  {
   "cell_type": "code",
   "execution_count": 207,
   "metadata": {},
   "outputs": [],
   "source": [
    "word = \"Muzi\""
   ]
  },
  {
   "cell_type": "code",
   "execution_count": 208,
   "metadata": {},
   "outputs": [],
   "source": [
    "def word_count(word,array):\n",
    "    count = 0\n",
    "    for i in array:\n",
    "        if i == word.lower():\n",
    "            count += 1\n",
    "    return count"
   ]
  },
  {
   "cell_type": "code",
   "execution_count": 209,
   "metadata": {},
   "outputs": [],
   "source": [
    "_dict = {}\n",
    "score_dict = {}\n",
    "index = 0\n",
    "meta_parser = re.compile('<meta(.+?)/>')\n",
    "a_parser = re.compile('<a(.+?)>')\n",
    "for i in pages:\n",
    "    meta_tag = meta_parser.findall(i)\n",
    "    my = meta_tag[0].split()[1].split('content=')[1]\n",
    "    score = word_count(word,re.sub('[^a-z]+',' ', i.lower()).split())\n",
    "    \n",
    "    a_tags = a_parser.findall(i)\n",
    "    link = []\n",
    "    for j in a_tags:\n",
    "        link.append(j.split(\"href=\")[1])\n",
    "        \n",
    "    _dict[my] = (score,link)\n",
    "    score_dict[my] = 0"
   ]
  },
  {
   "cell_type": "code",
   "execution_count": 210,
   "metadata": {},
   "outputs": [
    {
     "data": {
      "text/plain": [
       "{'\"https://careers.kakao.com/interview/list\"': (0, []),\n",
       " '\"https://www.kakaocorp.com\"': (1, [])}"
      ]
     },
     "execution_count": 210,
     "metadata": {},
     "output_type": "execute_result"
    }
   ],
   "source": [
    "_dict"
   ]
  },
  {
   "cell_type": "code",
   "execution_count": 211,
   "metadata": {},
   "outputs": [
    {
     "data": {
      "text/plain": [
       "{'\"https://careers.kakao.com/interview/list\"': 0,\n",
       " '\"https://www.kakaocorp.com\"': 0}"
      ]
     },
     "execution_count": 211,
     "metadata": {},
     "output_type": "execute_result"
    }
   ],
   "source": [
    "score_dict"
   ]
  },
  {
   "cell_type": "code",
   "execution_count": 213,
   "metadata": {},
   "outputs": [],
   "source": [
    "for i in _dict.items():\n",
    "    score_dict[i[0]] += i[1][0]\n",
    "    if len(i[1][1]) != 0:\n",
    "        link_score = i[1][0]/len(i[1][1])\n",
    "        for j in i[1][1]:\n",
    "            if j in score_dict:\n",
    "                score_dict[j] += link_score\n",
    "            print(link_score,score_dict)"
   ]
  },
  {
   "cell_type": "code",
   "execution_count": 81,
   "metadata": {},
   "outputs": [],
   "source": [
    "_dict = {}\n",
    "score_dict = {}\n",
    "index = 0\n",
    "for i in pages:\n",
    "    soup = BeautifulSoup(i, \"xml\")\n",
    "    my = soup.find_all(\"meta\")[1].get(\"content\")\n",
    "    score = word_count(word,soup.find(\"body\").get_text().lower().split())\n",
    "    \n",
    "    link = []\n",
    "    for i in soup.find_all(\"a\"):\n",
    "        link.append(i.get(\"href\"))\n",
    "        \n",
    "    _dict[my] = (score,link)\n",
    "    score_dict[my] = (index,0)\n",
    "    index += 1"
   ]
  },
  {
   "cell_type": "code",
   "execution_count": 82,
   "metadata": {},
   "outputs": [
    {
     "data": {
      "text/plain": [
       "{'https://a.com': (3, ['https://b.com']),\n",
       " 'https://b.com': (1, ['https://a.com', 'https://c.com']),\n",
       " 'https://c.com': (1, ['https://a.com'])}"
      ]
     },
     "execution_count": 82,
     "metadata": {},
     "output_type": "execute_result"
    }
   ],
   "source": [
    "_dict"
   ]
  },
  {
   "cell_type": "code",
   "execution_count": 83,
   "metadata": {},
   "outputs": [
    {
     "data": {
      "text/plain": [
       "{'https://a.com': 0, 'https://b.com': 0, 'https://c.com': 0}"
      ]
     },
     "execution_count": 83,
     "metadata": {},
     "output_type": "execute_result"
    }
   ],
   "source": [
    "score_dict"
   ]
  },
  {
   "cell_type": "code",
   "execution_count": 84,
   "metadata": {},
   "outputs": [
    {
     "name": "stdout",
     "output_type": "stream",
     "text": [
      "3.0 {'https://a.com': 3, 'https://b.com': 3.0, 'https://c.com': 0}\n",
      "0.5 {'https://a.com': 3.5, 'https://b.com': 4.0, 'https://c.com': 0}\n",
      "0.5 {'https://a.com': 3.5, 'https://b.com': 4.0, 'https://c.com': 0.5}\n",
      "1.0 {'https://a.com': 4.5, 'https://b.com': 4.0, 'https://c.com': 1.5}\n"
     ]
    }
   ],
   "source": [
    "for i in _dict.items():\n",
    "    score_dict[i[0]] += i[1][0]\n",
    "    link_score = i[1][0]/len(i[1][1])\n",
    "    for j in i[1][1]:\n",
    "        score_dict[j] += link_score\n",
    "        print(link_score,score_dict)"
   ]
  },
  {
   "cell_type": "code",
   "execution_count": 87,
   "metadata": {},
   "outputs": [],
   "source": [
    "score_dict_convert = {}"
   ]
  },
  {
   "cell_type": "code",
   "execution_count": 91,
   "metadata": {},
   "outputs": [],
   "source": [
    "index = 0\n",
    "for i in score_dict.values():\n",
    "    score_dict_convert[index] = i\n",
    "    index += 1"
   ]
  },
  {
   "cell_type": "code",
   "execution_count": 92,
   "metadata": {},
   "outputs": [
    {
     "data": {
      "text/plain": [
       "{0: 4.5, 1: 4.0, 2: 1.5}"
      ]
     },
     "execution_count": 92,
     "metadata": {},
     "output_type": "execute_result"
    }
   ],
   "source": [
    "score_dict_convert"
   ]
  },
  {
   "cell_type": "code",
   "execution_count": 95,
   "metadata": {},
   "outputs": [],
   "source": [
    "key_max = max(score_dict_convert.keys(), key = lambda x:score_dict_convert[x])"
   ]
  },
  {
   "cell_type": "code",
   "execution_count": 96,
   "metadata": {},
   "outputs": [
    {
     "data": {
      "text/plain": [
       "0"
      ]
     },
     "execution_count": 96,
     "metadata": {},
     "output_type": "execute_result"
    }
   ],
   "source": [
    "key_max"
   ]
  },
  {
   "cell_type": "code",
   "execution_count": 97,
   "metadata": {},
   "outputs": [],
   "source": [
    "## bs4 사용시 (프로그래머스 지원안함)\n",
    "from bs4 import BeautifulSoup\n",
    "\n",
    "def word_count(word,array):\n",
    "    count = 0\n",
    "    for i in array:\n",
    "        if i == word:\n",
    "            count += 1\n",
    "    return count\n",
    "\n",
    "def solution(word, pages):\n",
    "    _dict = {}\n",
    "    score_dict = {}\n",
    "    index = 0\n",
    "    for i in pages:\n",
    "        soup = BeautifulSoup(i, \"xml\")\n",
    "        my = soup.find_all(\"meta\")[1].get(\"content\")\n",
    "        score = word_count(word,soup.find(\"body\").get_text().lower().split())\n",
    "\n",
    "        link = []\n",
    "        for i in soup.find_all(\"a\"):\n",
    "            link.append(i.get(\"href\"))\n",
    "\n",
    "        _dict[my] = (score,link)\n",
    "        score_dict[my] = (index,0)\n",
    "        index += 1\n",
    "        \n",
    "    for i in _dict.items():\n",
    "        score_dict[i[0]] += i[1][0]\n",
    "        link_score = i[1][0]/len(i[1][1])\n",
    "        for j in i[1][1]:\n",
    "            score_dict[j] += link_score\n",
    "    \n",
    "    score_dict_convert = {}\n",
    "    index = 0\n",
    "    for i in score_dict.values():\n",
    "        score_dict_convert[index] = i\n",
    "        index += 1\n",
    "        \n",
    "    key_max = max(score_dict_convert.keys(), key = lambda x:score_dict_convert[x])\n",
    "    \n",
    "    return key_max"
   ]
  },
  {
   "cell_type": "code",
   "execution_count": 196,
   "metadata": {},
   "outputs": [],
   "source": [
    "## bs4 미사용\n",
    "import re\n",
    "\n",
    "def word_count(word,array):\n",
    "    count = 0\n",
    "    for i in array:\n",
    "        if i == word.lower():\n",
    "            count += 1\n",
    "    return count\n",
    "\n",
    "def solution(word, pages):\n",
    "    _dict = {}\n",
    "    score_dict = {}\n",
    "    index = 0\n",
    "    meta_parser = re.compile('<meta(.+?)/>')\n",
    "    a_parser = re.compile('<a(.+?)>')\n",
    "    for i in pages:\n",
    "        meta_tag = meta_parser.findall(i)\n",
    "        my = meta_tag[0].split()[1].split('content=')[1]\n",
    "        score = word_count(word,re.sub('[^a-z]+','.', i.lower()).split('.'))\n",
    "\n",
    "        a_tags = a_parser.findall(i)\n",
    "        link = []\n",
    "        for j in a_tags:\n",
    "            link.append(j.split(\"href=\")[1])\n",
    "\n",
    "        _dict[my] = (score,link)\n",
    "        score_dict[my] = 0\n",
    "        \n",
    "    for i in _dict.items():\n",
    "        score_dict[i[0]] += i[1][0]\n",
    "        if len(i[1][1]) != 0:\n",
    "            link_score = i[1][0]/len(i[1][1])\n",
    "            for j in i[1][1]:\n",
    "                if j in score_dict:\n",
    "                    score_dict[j] += link_score\n",
    "    \n",
    "    score_dict_convert = {}\n",
    "    index = 0\n",
    "    for i in score_dict.values():\n",
    "        score_dict_convert[index] = i\n",
    "        index += 1\n",
    "        \n",
    "    key_max = max(score_dict_convert.keys(), key = lambda x:score_dict_convert[x])\n",
    "    \n",
    "    return key_max"
   ]
  },
  {
   "cell_type": "code",
   "execution_count": 159,
   "metadata": {},
   "outputs": [
    {
     "data": {
      "text/plain": [
       "0"
      ]
     },
     "execution_count": 159,
     "metadata": {},
     "output_type": "execute_result"
    }
   ],
   "source": [
    "solution(word, pages)"
   ]
  },
  {
   "cell_type": "code",
   "execution_count": null,
   "metadata": {},
   "outputs": [],
   "source": []
  }
 ],
 "metadata": {
  "kernelspec": {
   "display_name": "Python 3",
   "language": "python",
   "name": "python3"
  },
  "language_info": {
   "codemirror_mode": {
    "name": "ipython",
    "version": 3
   },
   "file_extension": ".py",
   "mimetype": "text/x-python",
   "name": "python",
   "nbconvert_exporter": "python",
   "pygments_lexer": "ipython3",
   "version": "3.7.4"
  }
 },
 "nbformat": 4,
 "nbformat_minor": 2
}
