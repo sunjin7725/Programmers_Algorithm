{
 "cells": [
  {
   "cell_type": "code",
   "execution_count": 19,
   "metadata": {},
   "outputs": [],
   "source": [
    "ex1 = [\"I 16\",\"D 1\"]\n",
    "ex2 = [\"I 7\",\"I 5\",\"I -5\",\"D -1\"]\n",
    "ex3 = [\"I 16\", \"I -5643\", \"D -1\", \"D 1\", \"D 1\", \"I 123\", \"D -1\"]\n",
    "ex4 = [\"I 4\",\"I 3\",\"I 2\",\"I 1\",\"D 1\",\"D 1\",\"D -1\",\"D -1\",\"I 5\",\"I 6\"]"
   ]
  },
  {
   "cell_type": "code",
   "execution_count": 8,
   "metadata": {},
   "outputs": [],
   "source": [
    "operations = ex4"
   ]
  },
  {
   "cell_type": "code",
   "execution_count": 9,
   "metadata": {},
   "outputs": [],
   "source": [
    "import heapq"
   ]
  },
  {
   "cell_type": "code",
   "execution_count": 10,
   "metadata": {},
   "outputs": [],
   "source": [
    "_list = []\n",
    "for i in operations:\n",
    "    key, value = i.split()\n",
    "    if key == \"I\":\n",
    "        heapq.heappush(_list,int(value))\n",
    "    else:\n",
    "        try:\n",
    "            if value == \"1\":\n",
    "                _list.pop(_list.index(heapq.nlargest(1,_list)[0]))\n",
    "            else:\n",
    "                heapq.heappop(_list)\n",
    "        except:\n",
    "            continue"
   ]
  },
  {
   "cell_type": "code",
   "execution_count": 12,
   "metadata": {},
   "outputs": [
    {
     "name": "stdout",
     "output_type": "stream",
     "text": [
      "[0, 0]\n"
     ]
    }
   ],
   "source": [
    "if max_list and min_list:\n",
    "    print([-max_list[0],min_list[0]])\n",
    "else:\n",
    "    print([0,0])"
   ]
  },
  {
   "cell_type": "code",
   "execution_count": 27,
   "metadata": {},
   "outputs": [],
   "source": [
    "import heapq\n",
    "def solution(operations):\n",
    "    _list = []\n",
    "    for i in operations:\n",
    "        key, value = i.split()\n",
    "        if key == \"I\":\n",
    "            heapq.heappush(_list,int(value))\n",
    "        else:\n",
    "            try:\n",
    "                if value == \"1\":\n",
    "                    _list.pop(_list.index(heapq.nlargest(1,_list)[0]))\n",
    "                else:\n",
    "                    heapq.heappop(_list)\n",
    "            except:\n",
    "                continue\n",
    "    if len(_list)>1:\n",
    "        return [heapq.nlargest(1,_list)[0],heapq.nsmallest(1,_list)[0]]\n",
    "    else:\n",
    "        return [0,0]"
   ]
  },
  {
   "cell_type": "code",
   "execution_count": 28,
   "metadata": {},
   "outputs": [
    {
     "data": {
      "text/plain": [
       "[0, 0]"
      ]
     },
     "execution_count": 28,
     "metadata": {},
     "output_type": "execute_result"
    }
   ],
   "source": [
    "solution(ex3)"
   ]
  },
  {
   "cell_type": "code",
   "execution_count": null,
   "metadata": {},
   "outputs": [],
   "source": []
  }
 ],
 "metadata": {
  "kernelspec": {
   "display_name": "Python 3",
   "language": "python",
   "name": "python3"
  },
  "language_info": {
   "codemirror_mode": {
    "name": "ipython",
    "version": 3
   },
   "file_extension": ".py",
   "mimetype": "text/x-python",
   "name": "python",
   "nbconvert_exporter": "python",
   "pygments_lexer": "ipython3",
   "version": "3.7.4"
  }
 },
 "nbformat": 4,
 "nbformat_minor": 2
}
