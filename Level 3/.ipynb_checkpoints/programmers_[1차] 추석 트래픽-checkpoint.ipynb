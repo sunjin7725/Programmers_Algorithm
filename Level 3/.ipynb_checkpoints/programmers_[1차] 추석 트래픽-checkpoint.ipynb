{
 "cells": [
  {
   "cell_type": "code",
   "execution_count": null,
   "metadata": {},
   "outputs": [],
   "source": [
    "def check_count(time, logs):\n",
    "    count = 0\n",
    "    start = time\n",
    "    end = time + 1000\n",
    "    \n",
    "    for log in logs:\n",
    "        if log[1] >= start and log[0] < end:\n",
    "            count += 1\n",
    "            \n",
    "    return count\n",
    "\n",
    "def solution(lines):\n",
    "    logs = []\n",
    "    count = []\n",
    "    for index, log in enumerate(lines):\n",
    "        date, time, duration = log.split()\n",
    "        h, m, s = time.split(\":\")\n",
    "        minute = int(h)*60 + int(m)\n",
    "        milliseconds = int(minute*60000 + float(s)*1000)\n",
    "        duration = float(duration[:-1])*1000\n",
    "        logs.append([milliseconds-int(duration)+1, milliseconds])\n",
    "\n",
    "    for log in logs:\n",
    "        count.append(check_count(log[0],logs))\n",
    "        count.append(check_count(log[1],logs))\n",
    "\n",
    "    return max(count)"
   ]
  }
 ],
 "metadata": {
  "kernelspec": {
   "display_name": "Python 3",
   "language": "python",
   "name": "python3"
  },
  "language_info": {
   "codemirror_mode": {
    "name": "ipython",
    "version": 3
   },
   "file_extension": ".py",
   "mimetype": "text/x-python",
   "name": "python",
   "nbconvert_exporter": "python",
   "pygments_lexer": "ipython3",
   "version": "3.7.4"
  }
 },
 "nbformat": 4,
 "nbformat_minor": 2
}
