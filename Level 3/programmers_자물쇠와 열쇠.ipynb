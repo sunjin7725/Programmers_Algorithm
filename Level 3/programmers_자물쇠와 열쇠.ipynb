{
 "cells": [
  {
   "cell_type": "code",
   "execution_count": null,
   "metadata": {},
   "outputs": [],
   "source": [
    "import numpy as np\n",
    "\n",
    "def collect_key(key,lock,N,M):\n",
    "    result = np.array(key)+np.array(lock)\n",
    "    \n",
    "    result = result[M-1:M-1+N,M-1:M-1+N]\n",
    "    \n",
    "    if np.sum(result) == N*N:\n",
    "        if np.min(result) != 0:\n",
    "            return True\n",
    "    \n",
    "    return False\n",
    "\n",
    "def solution(key, lock):\n",
    "    M = len(key[:][0])\n",
    "    N = len(lock[:][0])\n",
    "\n",
    "    expansion_lock = np.zeros((N+2*(M-1),N+2*(M-1)))\n",
    "    for i in range(N):\n",
    "        for j in range(N):\n",
    "            expansion_lock[i+M-1][j+M-1] = lock[i][j]\n",
    "            \n",
    "    for rotate_count in range(4):\n",
    "        for n in range(N+M-1):\n",
    "            for m in range(N+M-1):\n",
    "                expansion_key = np.zeros((N+2*(M-1),N+2*(M-1)))\n",
    "                for i in range(M):\n",
    "                    for j in range(M):\n",
    "                        expansion_key[n+i][m+j] = key[i][j]\n",
    "\n",
    "                if collect_key(expansion_key, expansion_lock, N,M):\n",
    "                    return True\n",
    "\n",
    "        key = np.rot90(key)\n",
    "    return False"
   ]
  }
 ],
 "metadata": {
  "kernelspec": {
   "display_name": "Python 3",
   "language": "python",
   "name": "python3"
  },
  "language_info": {
   "codemirror_mode": {
    "name": "ipython",
    "version": 3
   },
   "file_extension": ".py",
   "mimetype": "text/x-python",
   "name": "python",
   "nbconvert_exporter": "python",
   "pygments_lexer": "ipython3",
   "version": "3.7.4"
  }
 },
 "nbformat": 4,
 "nbformat_minor": 2
}
