{
 "cells": [
  {
   "cell_type": "code",
   "execution_count": 39,
   "metadata": {},
   "outputs": [],
   "source": [
    "s = \"abcdcba\""
   ]
  },
  {
   "cell_type": "code",
   "execution_count": 40,
   "metadata": {},
   "outputs": [
    {
     "name": "stdout",
     "output_type": "stream",
     "text": [
      "abcdcba abcdcba\n",
      "abcdcb bcdcba\n",
      "abcdc cdcba\n",
      "abcd dcba\n",
      "abc cba\n",
      "ab ba\n",
      "a a\n",
      "bcdcba abcdcb\n",
      "bcdcb bcdcb\n",
      "bcdc cdcb\n",
      "bcd dcb\n",
      "bc cb\n",
      "b b\n",
      "cdcba abcdc\n",
      "cdcb bcdc\n",
      "cdc cdc\n",
      "cd dc\n",
      "c c\n",
      "dcba abcd\n",
      "dcb bcd\n",
      "dc cd\n",
      "d d\n",
      "cba abc\n",
      "cb bc\n",
      "c c\n",
      "ba ab\n",
      "b b\n",
      "a a\n"
     ]
    }
   ],
   "source": [
    "for i in range(len(s)):\n",
    "    for j in range(len(s)-i,0,-1):\n",
    "        print(s[i:i+j],s[i:i+j][::-1])"
   ]
  },
  {
   "cell_type": "code",
   "execution_count": 25,
   "metadata": {},
   "outputs": [],
   "source": [
    "def solution(s):\n",
    "    _max = 0\n",
    "    for i in range(len(s)):\n",
    "        for j in range(len(s)-i,0,-1):\n",
    "            if s[i:i+j] == s[i:i+j][::-1]:\n",
    "                if _max < len(s[i:i+j]):\n",
    "                    _max = len(s[i:i+j])\n",
    "    return _max"
   ]
  },
  {
   "cell_type": "code",
   "execution_count": 26,
   "metadata": {},
   "outputs": [
    {
     "data": {
      "text/plain": [
       "7"
      ]
     },
     "execution_count": 26,
     "metadata": {},
     "output_type": "execute_result"
    }
   ],
   "source": [
    "solution(s)"
   ]
  },
  {
   "cell_type": "code",
   "execution_count": null,
   "metadata": {},
   "outputs": [],
   "source": []
  }
 ],
 "metadata": {
  "kernelspec": {
   "display_name": "Python 3",
   "language": "python",
   "name": "python3"
  },
  "language_info": {
   "codemirror_mode": {
    "name": "ipython",
    "version": 3
   },
   "file_extension": ".py",
   "mimetype": "text/x-python",
   "name": "python",
   "nbconvert_exporter": "python",
   "pygments_lexer": "ipython3",
   "version": "3.7.4"
  }
 },
 "nbformat": 4,
 "nbformat_minor": 2
}
