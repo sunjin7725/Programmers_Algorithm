{
 "cells": [
  {
   "cell_type": "code",
   "execution_count": 105,
   "metadata": {},
   "outputs": [],
   "source": [
    "costs = [[0,1,1],[0,2,2],[1,2,5],[1,3,1],[2,3,8]]\n",
    "n=4\n",
    "costs = [[0,1,1],[0,2,2],[1,2,5],[1,3,3],[2,3,8],[3,4,1]]\n",
    "n = 5\n",
    "costs = [[0, 1, 5], [0, 3, 2], [0, 4, 3], [1, 4, 1], [3, 4, 10], [1, 2, 2], [2, 5, 3], [4, 5, 4]]\n",
    "n = 6"
   ]
  },
  {
   "cell_type": "code",
   "execution_count": 106,
   "metadata": {},
   "outputs": [],
   "source": [
    "costs = sorted(costs, key = lambda x: x[2], reverse=True)\n",
    "costs = sorted(costs, key = lambda x: x[0], reverse=True)"
   ]
  },
  {
   "cell_type": "code",
   "execution_count": 107,
   "metadata": {},
   "outputs": [
    {
     "data": {
      "text/plain": [
       "[[4, 5, 4],\n",
       " [3, 4, 10],\n",
       " [2, 5, 3],\n",
       " [1, 2, 2],\n",
       " [1, 4, 1],\n",
       " [0, 1, 5],\n",
       " [0, 4, 3],\n",
       " [0, 3, 2]]"
      ]
     },
     "execution_count": 107,
     "metadata": {},
     "output_type": "execute_result"
    }
   ],
   "source": [
    "costs"
   ]
  },
  {
   "cell_type": "code",
   "execution_count": 108,
   "metadata": {},
   "outputs": [],
   "source": [
    "link = [0]*n"
   ]
  },
  {
   "cell_type": "code",
   "execution_count": 109,
   "metadata": {},
   "outputs": [],
   "source": [
    "first_node = costs.pop()\n",
    "link[first_node[0]] = 1\n",
    "link[first_node[1]] = 1\n",
    "answer = first_node[2]"
   ]
  },
  {
   "cell_type": "code",
   "execution_count": 110,
   "metadata": {},
   "outputs": [
    {
     "data": {
      "text/plain": [
       "([1, 0, 0, 1, 0, 0], 2)"
      ]
     },
     "execution_count": 110,
     "metadata": {},
     "output_type": "execute_result"
    }
   ],
   "source": [
    "link,answer"
   ]
  },
  {
   "cell_type": "code",
   "execution_count": 111,
   "metadata": {},
   "outputs": [],
   "source": [
    "while costs:\n",
    "    start,end,cost = costs.pop()\n",
    "    if link[start] == 0 or link[end] == 0:\n",
    "        link[start] = 1\n",
    "        link[end] = 1\n",
    "        answer += cost\n",
    "    if sum(link) == n:\n",
    "        break       "
   ]
  },
  {
   "cell_type": "code",
   "execution_count": 112,
   "metadata": {},
   "outputs": [
    {
     "data": {
      "text/plain": [
       "15"
      ]
     },
     "execution_count": 112,
     "metadata": {},
     "output_type": "execute_result"
    }
   ],
   "source": [
    "answer"
   ]
  },
  {
   "cell_type": "code",
   "execution_count": null,
   "metadata": {},
   "outputs": [],
   "source": [
    "def solution(n, costs):\n",
    "    costs = sorted(costs, key = lambda x: x[2], reverse=True)\n",
    "    costs = sorted(costs, key = lambda x: x[0], reverse=True)\n",
    "    \n",
    "    link = [0]*n\n",
    "    \n",
    "    first_node = costs.pop()\n",
    "    link[first_node[0]] = 1\n",
    "    link[first_node[1]] = 1\n",
    "    answer = first_node[2]\n",
    "    \n",
    "    while costs:\n",
    "        start,end,cost = costs.pop()\n",
    "        if link[start] == 0 or link[end] == 0:\n",
    "            link[start] = 1\n",
    "            link[end] = 1\n",
    "            answer += cost\n",
    "        if sum(link) == n:\n",
    "            break\n",
    "    return answer"
   ]
  }
 ],
 "metadata": {
  "kernelspec": {
   "display_name": "Python 3",
   "language": "python",
   "name": "python3"
  },
  "language_info": {
   "codemirror_mode": {
    "name": "ipython",
    "version": 3
   },
   "file_extension": ".py",
   "mimetype": "text/x-python",
   "name": "python",
   "nbconvert_exporter": "python",
   "pygments_lexer": "ipython3",
   "version": "3.7.4"
  }
 },
 "nbformat": 4,
 "nbformat_minor": 2
}
