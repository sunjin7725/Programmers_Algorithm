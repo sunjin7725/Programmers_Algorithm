{
 "cells": [
  {
   "cell_type": "code",
   "execution_count": null,
   "metadata": {},
   "outputs": [],
   "source": [
    "def solution(m, n, puddles) :\n",
    "    route = [[0 for col in range(m+1)] for row in range(n+1)]\n",
    "    route[1][1] = 1\n",
    "\n",
    "        \n",
    "    for i in range(1,m+1) :\n",
    "        for j in range(1, n+1) :\n",
    "            if i == 1 and j == 1 :\n",
    "                route[i][j] = 1\n",
    "            else :\n",
    "                if [i,j] in puddles :\n",
    "                    pass\n",
    "                else :\n",
    "                    route[j][i] = route[j-1][i] + route[j][i-1]\n",
    "                    \n",
    "    answer = route[n][m]%1000000007\n",
    "    \n",
    "    return answer"
   ]
  }
 ],
 "metadata": {
  "kernelspec": {
   "display_name": "Python 3",
   "language": "python",
   "name": "python3"
  },
  "language_info": {
   "codemirror_mode": {
    "name": "ipython",
    "version": 3
   },
   "file_extension": ".py",
   "mimetype": "text/x-python",
   "name": "python",
   "nbconvert_exporter": "python",
   "pygments_lexer": "ipython3",
   "version": "3.7.4"
  }
 },
 "nbformat": 4,
 "nbformat_minor": 2
}
