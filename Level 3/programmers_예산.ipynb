{
 "cells": [
  {
   "cell_type": "code",
   "execution_count": 1,
   "metadata": {},
   "outputs": [],
   "source": [
    "budgets = [120, 110, 140, 150]\n",
    "M = 485"
   ]
  },
  {
   "cell_type": "code",
   "execution_count": 2,
   "metadata": {},
   "outputs": [],
   "source": [
    "def can_budgets(budgets, M, mid):\n",
    "    for i in budgets:\n",
    "        if i < mid:\n",
    "            M -= i\n",
    "        else:\n",
    "            M -= mid\n",
    "        if M < 0:\n",
    "            return False\n",
    "    return True"
   ]
  },
  {
   "cell_type": "code",
   "execution_count": 3,
   "metadata": {},
   "outputs": [],
   "source": [
    "_min, _max = min(budgets), max(budgets)\n",
    "\n",
    "while _min < _max-1:\n",
    "    mid = (_min + _max) // 2\n",
    "    print(_min, _max, mid)\n",
    "    if can_budgets(budgets, M, mid):\n",
    "        _min = mid\n",
    "    else:\n",
    "        _max = mid\n",
    "    "
   ]
  },
  {
   "cell_type": "code",
   "execution_count": 4,
   "metadata": {},
   "outputs": [
    {
     "data": {
      "text/plain": [
       "127"
      ]
     },
     "execution_count": 4,
     "metadata": {},
     "output_type": "execute_result"
    }
   ],
   "source": [
    "_min"
   ]
  },
  {
   "cell_type": "code",
   "execution_count": null,
   "metadata": {},
   "outputs": [],
   "source": [
    "def can_budgets(budgets, M, mid):\n",
    "    for i in budgets:\n",
    "        if i < mid:\n",
    "            M -= i\n",
    "        else:\n",
    "            M -= mid\n",
    "        \n",
    "        if M < 0:\n",
    "            return False\n",
    "        \n",
    "    return True\n",
    "\n",
    "def solution(budgets, M):\n",
    "    _min, _max = 0, max(budgets) + 1\n",
    "\n",
    "    while _min < _max - 1:\n",
    "        mid = (_min + _max) // 2\n",
    "        if can_budgets(budgets, M, mid):\n",
    "            _min = mid\n",
    "        else:\n",
    "            _max = mid\n",
    "    \n",
    "    return _min"
   ]
  }
 ],
 "metadata": {
  "kernelspec": {
   "display_name": "Python 3",
   "language": "python",
   "name": "python3"
  },
  "language_info": {
   "codemirror_mode": {
    "name": "ipython",
    "version": 3
   },
   "file_extension": ".py",
   "mimetype": "text/x-python",
   "name": "python",
   "nbconvert_exporter": "python",
   "pygments_lexer": "ipython3",
   "version": "3.7.4"
  }
 },
 "nbformat": 4,
 "nbformat_minor": 2
}
