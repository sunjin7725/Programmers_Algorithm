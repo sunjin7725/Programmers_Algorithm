{
 "cells": [
  {
   "cell_type": "code",
   "execution_count": 7,
   "metadata": {},
   "outputs": [],
   "source": [
    "jobs = [[0, 3], [1, 9], [2, 6]]"
   ]
  },
  {
   "cell_type": "code",
   "execution_count": 2,
   "metadata": {},
   "outputs": [
    {
     "data": {
      "text/plain": [
       "[[0, 3], [2, 6], [1, 9]]"
      ]
     },
     "execution_count": 2,
     "metadata": {},
     "output_type": "execute_result"
    }
   ],
   "source": [
    "import heapq\n",
    "\n",
    "num = len(jobs)\n",
    "count = 0\n",
    "now = 0\n",
    "start = -1\n",
    "heap = []\n",
    "answer = 0\n",
    "\n",
    "while count < num:\n",
    "    for i in jobs:\n",
    "        request, time = i\n",
    "        if start < request <= time:\n",
    "            heapq.heappush(heap, time)\n",
    "            answer += time - request\n",
    "            start = request\n",
    "            \n",
    "    if heap:\n",
    "        current_process_time = heapq.heappop(heap)\n",
    "        \n",
    "        answer += current_process_time\n",
    "        time = \n",
    "    "
   ]
  },
  {
   "cell_type": "code",
   "execution_count": null,
   "metadata": {},
   "outputs": [],
   "source": [
    "[[0, 3], [2, 6], [1, 9]]"
   ]
  }
 ],
 "metadata": {
  "kernelspec": {
   "display_name": "Python 3",
   "language": "python",
   "name": "python3"
  },
  "language_info": {
   "codemirror_mode": {
    "name": "ipython",
    "version": 3
   },
   "file_extension": ".py",
   "mimetype": "text/x-python",
   "name": "python",
   "nbconvert_exporter": "python",
   "pygments_lexer": "ipython3",
   "version": "3.7.4"
  }
 },
 "nbformat": 4,
 "nbformat_minor": 2
}
