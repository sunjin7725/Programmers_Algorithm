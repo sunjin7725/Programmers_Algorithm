{
 "cells": [
  {
   "cell_type": "code",
   "execution_count": null,
   "metadata": {},
   "outputs": [],
   "source": [
    "def solution(genres, plays):    \n",
    "    genres_max = dict()\n",
    "    genres_play = dict()\n",
    "    \n",
    "    for i in range(len(genres)):\n",
    "        if genres[i] in genres_play.keys():\n",
    "            genres_play[genres[i]].update({i:plays[i]})\n",
    "            genres_max[genres[i]] += plays[i]\n",
    "        else:\n",
    "            genres_max[genres[i]] = plays[i]\n",
    "            genres_play[genres[i]] = {i:plays[i]}\n",
    "\n",
    "    for i in range(len(genres_max.keys())):\n",
    "        name = list(genres_max.keys())[i]\n",
    "        genres_play[name] = dict(sorted(genres_play[name].items(), key=(lambda x: x[1]),reverse=True))\n",
    "        \n",
    "    genres_max = dict(sorted(genres_max.items(), key=(lambda x: x[1]),reverse=True))\n",
    "    \n",
    "    answer = []\n",
    "\n",
    "    for key in genres_max:\n",
    "        count = 0\n",
    "        for num in genres_play[key]:\n",
    "            if count == 2:\n",
    "                break\n",
    "            answer.append(num)\n",
    "            count += 1\n",
    "        \n",
    "    return answer"
   ]
  }
 ],
 "metadata": {
  "kernelspec": {
   "display_name": "Python 3",
   "language": "python",
   "name": "python3"
  },
  "language_info": {
   "codemirror_mode": {
    "name": "ipython",
    "version": 3
   },
   "file_extension": ".py",
   "mimetype": "text/x-python",
   "name": "python",
   "nbconvert_exporter": "python",
   "pygments_lexer": "ipython3",
   "version": "3.7.4"
  }
 },
 "nbformat": 4,
 "nbformat_minor": 2
}
